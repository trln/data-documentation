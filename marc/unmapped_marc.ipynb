{
 "cells": [
  {
   "cell_type": "markdown",
   "metadata": {},
   "source": [
    "# Unmapped MARC fields and subfields\n",
    "This notebook:\n",
    "* Documents MARC fields and subfields omitted from Argot mappings\n",
    "* Identifies MARC mapping decisions to be made, by analyzing:\n",
    " * current MARC specification from http://www.loc.gov/marc/bibliographic/ecbdlist.html \n",
    " * Argot mappings from https://github.com/trln/data-documentation/blob/master/argot/argot.xlsx\n",
    " * Our explicit field and subfield omission decisions \n",
    "\n",
    "MARC fields we have decided to exclude from Argot mappings are recorded in [`unmapped_marc_tags.json`](https://github.com/trln/data-documentation/blob/master/marc/unmapped_marc_tags.json).\n",
    "\n",
    "Specific MARC subfields excluded from Argot mappings *when some subfields from the field ARE mapped* are recorded in [`unmapped_marc_subfields.json`](https://github.com/trln/data-documentation/blob/master/marc/unmapped_marc_subfields.json).\n",
    "\n",
    "**Jump to:**\n",
    "* [Unmapped MARC fields - decisions](#unmapped-field-decisions)\n",
    "* [Unmapped MARC fields - to decide/document](#unmapped-fields-to-decide)\n",
    "* [Unmapped MARC subfields - decisions](#unmapped-subfield-decisions)\n",
    "* [Unmapped MARC subfields - to decide/document](#unmapped-subfields-to-decide)"
   ]
  },
  {
   "cell_type": "markdown",
   "metadata": {},
   "source": [
    "## Use the current MARC specification\n",
    "First, run script to generate JSON hash of current MARC specification. If successful: \n",
    "* Out will = true\n",
    "* `marc_definition.json` is written to `data-documentation/marc` folder"
   ]
  },
  {
   "cell_type": "code",
   "execution_count": 1,
   "metadata": {},
   "outputs": [
    {
     "data": {
      "text/plain": [
       "true"
      ]
     },
     "execution_count": 1,
     "metadata": {},
     "output_type": "execute_result"
    }
   ],
   "source": [
    "require './extract_marc_bib_spec'"
   ]
  },
  {
   "cell_type": "markdown",
   "metadata": {},
   "source": [
    "## Get all our mappings data\n",
    "This next bit just reads in all the data we'll need: \n",
    "* `marc_spec` is the updated MARC specification created in the previous step\n",
    "* `unmapped_fields` is our explicit decisions about MARC fields not mapped to Argot\n",
    "* `unmapped_subfields` is our explicit decisions about individual MARC subfields not mapped to Argot. These subfields all occur in MARC fields that are otherwise mapped to Argot. "
   ]
  },
  {
   "cell_type": "code",
   "execution_count": 2,
   "metadata": {},
   "outputs": [
    {
     "name": "stdout",
     "output_type": "stream",
     "text": [
      "\n"
     ]
    }
   ],
   "source": [
    "marc_spec = JSON.parse(File.read('marc_definition.json'))\n",
    "unmapped_fields = JSON.parse(File.read('unmapped_marc_tags.json'))\n",
    "unmapped_subfields = JSON.parse(File.read('unmapped_marc_subfields.json'))\n",
    "puts ''"
   ]
  },
  {
   "cell_type": "markdown",
   "metadata": {},
   "source": [
    "Next get our current MARC-to-Argot mappings from Argot spreadsheet and turn this into a hash we can use:"
   ]
  },
  {
   "cell_type": "code",
   "execution_count": 3,
   "metadata": {},
   "outputs": [
    {
     "name": "stdout",
     "output_type": "stream",
     "text": [
      "\n"
     ]
    }
   ],
   "source": [
    "require 'simple_xlsx_reader'\n",
    "doc = SimpleXlsxReader.open('../argot/argot.xlsx')\n",
    "mappings_d = doc.sheets[1].data\n",
    "mappings_h = doc.sheets[1].headers\n",
    "marc_only = mappings_d.select{ |r| r[2] == \"MARC\"}.map{ |r| [r[5].rjust(3,'0'), r[6], r[3]] }\n",
    "# Remove mappings for fixed fields and those where data is a constant\n",
    "marc_only.reject!{ |r| r[0] =~ /(00[678]|\\{na\\})/}\n",
    "# Change {na}, {varies}, period, space, or parentheses in subfield list to nothing\n",
    "marc_only.map!{ |r| [r[0], r[1].gsub(/\\{(na|varies)\\}|[.() ]/, ''), r[2]]}\n",
    "# Convert subfield list to array\n",
    "marc_only.map!{ |r| [r[0], r[1].split(''), r[2]]}\n",
    "# explode mappings list, so there's one array per subfield value\n",
    "# orig: [\"111\", [\"j\", \"4\"], \"n\"]\n",
    "# new: [\"111\", \"j\", \"n\"], [\"111\", 4\", \"n\"]\n",
    "flat_mappings = []\n",
    "marc_only.each do |r|  \n",
    "  r[1].each { |sf| flat_mappings << [r[0], sf, r[2]] }\n",
    "end\n",
    "mapping_hash = {}\n",
    "flat_mappings.uniq!.each do |r|\n",
    "  if mapping_hash.has_key?(r[0])\n",
    "    mapping_hash[r[0]][r[1]] = r[2]\n",
    "  else\n",
    "    mapping_hash[r[0]] = {r[1] => r[2]}\n",
    "  end\n",
    "end\n",
    "puts ''"
   ]
  },
  {
   "cell_type": "markdown",
   "metadata": {},
   "source": [
    "The above creates a hash with the following basic format: \n",
    "\n",
    "```\n",
    "{\n",
    " \"581\": {\n",
    "    \"a\": \"n\",\n",
    "    \"z\": \"n\",\n",
    "    \"3\": \"n\"\n",
    "  },\n",
    "  ...\n",
    "}\n",
    "```\n",
    "\n",
    "Subfields a, z, and 3 from the 581 field are mapped to Argot. \n",
    "\n",
    "The \"n\" at the end of each subfield line means these are final mappings for production. \"y\" in this position indicates a provisional mapping, which may not yet be implemented or which is subject to major changes."
   ]
  },
  {
   "cell_type": "markdown",
   "metadata": {},
   "source": [
    "## Unmapped MARC, field tag level\n",
    "The following code block formats our unmapped field decisions for display"
   ]
  },
  {
   "cell_type": "code",
   "execution_count": 4,
   "metadata": {},
   "outputs": [
    {
     "name": "stdout",
     "output_type": "stream",
     "text": [
      "\n"
     ]
    }
   ],
   "source": [
    "unmapped_tag_table = { 'MARC tag' => [],\n",
    "                       'Name' => [],\n",
    "                       'Omission type' => [],\n",
    "                       'Omission category' => [],\n",
    "                       'Details' => []\n",
    "                     }\n",
    "unmapped_fields.sort.each do |tag, info|\n",
    "  unmapped_tag_table['MARC tag'] << tag\n",
    "  unmapped_tag_table['Name'] << marc_spec[tag]['name']\n",
    "  unmapped_tag_table['Omission type'] << info['omission_type']\n",
    "  unmapped_tag_table['Omission category'] << info['omission_reason_category']\n",
    "  unmapped_tag_table['Details'] << info['omission_details']\n",
    "end\n",
    "puts \"\""
   ]
  },
  {
   "cell_type": "markdown",
   "metadata": {},
   "source": [
    "### Explicit decisions and justifications <a class=\"anchor\" id=\"unmapped-field-decisions\"></a>\n",
    "The block below displays the fields we've explicitly decided not to map."
   ]
  },
  {
   "cell_type": "code",
   "execution_count": 5,
   "metadata": {},
   "outputs": [
    {
     "data": {
      "text/html": [
       "<table><tr><th>MARC tag</th><th>Name</th><th>Omission type</th><th>Omission category</th><th>Details</th></tr><tr><td>013</td><td>PATENT CONTROL INFORMATION </td><td>temporary</td><td>infrequently used</td><td>60 instances in UNC catalog on 2019-06-14. Most look like miscoded fields. Also of limited public use?</td></tr><tr><td>016</td><td>NATIONAL BIBLIOGRAPHIC AGENCY CONTROL NUMBER </td><td>temporary</td><td>low priority</td><td>Over 244,000 instances in UNC catalog on 2019-06-14. Could map to misc_id, but this was initially considereed a low priority.</td></tr><tr><td>017</td><td>COPYRIGHT OR LEGAL DEPOSIT NUMBER </td><td>temporary</td><td>infrequently used</td><td>154 instances in UNC catalog as of 2019-06-14. At least in our catalog, users can't expect to find this information consistently. Could map to misc_id if necessary.</td></tr><tr><td>018</td><td>COPYRIGHT ARTICLE-FEE CODE </td><td>permanent</td><td>limited public use</td><td>Unique identification code for component parts appearing in monographs or continuing resources. Cryptic. Unlikely to assist with discovery.</td></tr><tr><td>025</td><td>OVERSEAS ACQUISITION NUMBER </td><td>permanent</td><td>internal</td><td>Internal to Library of Congress. Means nothing for our institutions.</td></tr><tr><td>026</td><td>FINGERPRINT IDENTIFIER </td><td>permanent</td><td>internal</td><td>Used to assist in the identification of antiquarian books by recording information comprising groups of characters taken from specified positions on specified pages of the book. Example: 026 ##$ae-s- 11as$bs,me crth 3$c1797.$dv.1</td></tr><tr><td>031</td><td>MUSICAL INCIPITS INFORMATION </td><td>temporary</td><td>infrequently used</td><td>Only 5 instances of field in UNC catalog on 2019-06-14. Very cryptic and would take a lot of work to transform into something useful to end user. Could be useful in an eventual specialized music discovery tool, but this information might be coded elsewhere in the record in more usable ways.</td></tr><tr><td>032</td><td>POSTAL REGISTRATION NUMBER </td><td>permanent</td><td>internal</td><td>Number assigned to a publication for which the specified postal service permits the use of a special mailing class privilege.</td></tr><tr><td>033</td><td>DATE/TIME AND PLACE OF AN EVENT </td><td>temporary</td><td>limited public use</td><td>15,564 occurrences in UNC catalog on 2019-06-14. Could be useful, but this isn't really a chronological *subject* and it's not a publication, etc. date either. Would need to make decisions about whether this is useful for discovery and how to best use it.</td></tr><tr><td>034</td><td>CODED CARTOGRAPHIC MATHEMATICAL DATA </td><td>temporary</td><td>limited public use</td><td>56,450 occurrences in UNC catalog on 2019-06-14. Could be useful in specialized cartographic discovery tool, but doesn't contribute much in the context of our general discovery application. Cryptic, not easily translated into user-sensible display. Information is usually recorded in less structured, more user-readable way elsewhere in record.</td></tr><tr><td>036</td><td>ORIGINAL STUDY NUMBER FOR COMPUTER DATA FILES </td><td>temporary</td><td>infrequently used</td><td>5 occurrences in UNC catalog on 2019-06-14, all miscodings. Could fairly easily be mapped to misc_id if anyone else had more of this data and thought users would expect to search on or find this data in the catalog.</td></tr><tr><td>037</td><td>SOURCE OF ACQUISITION </td><td>permanent</td><td>internal</td><td>.</td></tr><tr><td>038</td><td>RECORD CONTENT LICENSOR </td><td>permanent</td><td>infrequently used</td><td>3 occurrences in UNC catalog on 2019-06-14. Highly unlikely to be kept updated/consistent in a library catalog. Of limited use for typical library discovery.</td></tr><tr><td>040</td><td>CATALOGING SOURCE </td><td>permanent</td><td>internal</td><td>Users don't care about the cataloging history of a record.</td></tr><tr><td>042</td><td>AUTHENTICATION CODE </td><td>permanent</td><td>internal</td><td>Cataloger use only</td></tr><tr><td>043</td><td>GEOGRAPHIC AREA CODE </td><td>temporary</td><td>redundant</td><td>Choice of geographic area code is usually based on the geographic names and/or subdivisions in 6XX subject added entry and index term fields. Revisit this decision if that practice ever changes.</td></tr><tr><td>045</td><td>TIME PERIOD OF CONTENT </td><td>temporary</td><td>complex</td><td>This could be very useful for discovery, but it'd be challenging to do it well. The field means something different for different formats, so we'd need to present it differently per format. Also the data is recorded in a cryptic way that would require complex transformation. Finally, we'd need to figure out how to present different types of dates (dates depicted, dates of content, dates of data generation, date of original composition (music), etc.)</td></tr><tr><td>046</td><td>SPECIAL CODED DATES </td><td>temporary</td><td>complex</td><td>Could be useful, but the assumptions of the current catalog include one main publication date. We have few materials that need to use this field in lieu of 008 because of BCE dates. Would need to tangle with how to usefully surface inclusive/bulk dates in UI.</td></tr><tr><td>048</td><td>NUMBER OF MUSICAL INSTRUMENTS OR VOICES CODE </td><td>temporary</td><td>complex</td><td>Structured, coded form of data usually recorded in a human-readable, less machine-actionable form elsewhere in the record. If we ever support more advanced limits/structured searching for music display, map this field.</td></tr><tr><td>055</td><td>CLASSIFICATION NUMBERS ASSIGNED IN CANADA </td><td>permanent</td><td>limited public use</td><td>.</td></tr><tr><td>066</td><td>CHARACTER SETS PRESENT </td><td>permanent</td><td>internal</td><td>.</td></tr><tr><td>070</td><td>NATIONAL AGRICULTURAL LIBRARY CALL NUMBER </td><td>permanent</td><td>limited public use</td><td>.</td></tr><tr><td>071</td><td>NATIONAL AGRICULTURAL LIBRARY COPY STATEMENT </td><td>permanent</td><td>limited public use</td><td>.</td></tr><tr><td>072</td><td>SUBJECT CATEGORY CODE </td><td>permanent</td><td>limited public use</td><td>.</td></tr><tr><td>080</td><td>UNIVERSAL DECIMAL CLASSIFICATION NUMBER </td><td>permanent</td><td>limited public use</td><td>.</td></tr><tr><td>084</td><td>OTHER CLASSIFICATION NUMBER </td><td>permanent</td><td>limited public use</td><td>.</td></tr><tr><td>306</td><td>PLAYING TIME </td><td>permanent</td><td>data unusable</td><td>Usually duplicates data recorded in 300 and/or 505. Recorded in a cryptic manner and there's no way to specify which duration recorded goes with which part of the described item, if it's a multi-part thing</td></tr><tr><td>307</td><td>HOURS, ETC. </td><td>permanent</td><td>irrelevant</td><td>No fields in UNC catalog. Hours an item is available is kind of a weird concept in the catalog, too.</td></tr><tr><td>336</td><td>CONTENT TYPE </td><td>temporary</td><td>low priority</td><td>Terms used are not user-friendly; this information is usually better expressed elsewhere in the record</td></tr><tr><td>337</td><td>MEDIA TYPE </td><td>temporary</td><td>low priority</td><td>Terms used are not user-friendly; this information is usually better expressed elsewhere in the record</td></tr><tr><td>338</td><td>CARRIER TYPE </td><td>temporary</td><td>low priority</td><td>Terms used are not user-friendly; this information is usually better expressed elsewhere in the record</td></tr><tr><td>342</td><td>GEOSPATIAL REFERENCE DATA </td><td>temporary</td><td>low priority</td><td>Complex data mapping; appears in <2000 records in UNC catalog on 2018-05-21. Need to assess if this adds useful info, and if so, how to map.</td></tr><tr><td>343</td><td>PLANAR COORDINATE DATA </td><td>temporary</td><td>infrequently used</td><td>only 2 records in UNC catalog</td></tr><tr><td>348</td><td>FORMAT OF NOTATED MUSIC </td><td>temporary</td><td>low priority</td><td>Look into whether it should map to genre</td></tr><tr><td>355</td><td>SECURITY CLASSIFICATION CONTROL </td><td>permanent</td><td>irrelevant</td><td>No records in UNC catalog</td></tr><tr><td>357</td><td>ORIGINATOR DISSEMINATION CONTROL </td><td>permanent</td><td>irrelevant</td><td>No records in UNC catalog</td></tr><tr><td>363</td><td>NORMALIZED DATE AND SEQUENTIAL DESIGNATION </td><td>permanent</td><td>data unusable</td><td>Holdings-like hell format specifying exact dates; only 10 in UNC catalog, most look like they should be 362s</td></tr><tr><td>370</td><td>ASSOCIATED PLACE </td><td>temporary</td><td>infrequently used</td><td>22 fields in UNC catalog -- maybe one day map to a subject-ish geographical entry or something?</td></tr><tr><td>377</td><td>ASSOCIATED LANGUAGE </td><td>temporary</td><td>infrequently used</td><td>1 field in UNC catalog -- maybe one day map to language facet if it adds unique info</td></tr><tr><td>380</td><td>FORM OF WORK </td><td>temporary</td><td>low priority</td><td>Look into mapping to genre</td></tr><tr><td>381</td><td>OTHER DISTINGUISHING CHARACTERISTICS OF WORK OR EXPRESSION </td><td>permanent</td><td>data unusable</td><td>Mishmash of different kinds of data issuing body, arranged statement of music, version, or a geographic term with no coding that tells you what the data is</td></tr><tr><td>383</td><td>NUMERIC DESIGNATION OF MUSICAL WORK </td><td>permanent</td><td>duplicate data</td><td>Currently duplicates data recorded in other parts of the record, particularly 130 and 240 fields.</td></tr><tr><td>385</td><td>AUDIENCE CHARACTERISTICS </td><td>temporary</td><td>low priority</td><td>Look into mapping to `note_general` with label `For audiences`</td></tr><tr><td>386</td><td>CREATOR/CONTRIBUTOR CHARACTERISTICS </td><td>temporary</td><td>infrequently used</td><td>Could eventually leverage in some \"Works by\" field, but only 248 fields in UNC's catalog today 2018-05-18</td></tr><tr><td>388</td><td>TIME PERIOD OF CREATION </td><td>temporary</td><td>infrequently used</td><td>Only 3 fields in UNC catalog on 2018-05-18. Eventually could be mapped as a chronological subject or something.</td></tr><tr><td>530</td><td>ADDITIONAL PHYSICAL FORM AVAILABLE NOTE </td><td>permanent</td><td>limited public use</td><td>Patrons do not care if item is available in another format if they cannot get to that format from our catalog. Midleading if not adjusted and kept current with our holdings</td></tr><tr><td>583</td><td>ACTION NOTE </td><td>permanent</td><td>internal</td><td>Only select librarians can interpret and understand what this field means. Important for internal library work. Irrelevant for discovery.</td></tr><tr><td>588</td><td>SOURCE OF DESCRIPTION NOTE </td><td>permanent</td><td>limited public use</td><td>Public does not care what part of an item was used to create catalog description.</td></tr><tr><td>776</td><td>ADDITIONAL PHYSICAL FORM ENTRY </td><td>permanent</td><td>limited public use</td><td>Patrons do not care if item is available in another format if they cannot get to that format from our catalog. Midleading if not adjusted and kept current with our holdings</td></tr></table>"
      ],
      "text/plain": [
       "\"<table><tr><th>MARC tag</th><th>Name</th><th>Omission type</th><th>Omission category</th><th>Details</th></tr><tr><td>013</td><td>PATENT CONTROL INFORMATION </td><td>temporary</td><td>infrequently used</td><td>60 instances in UNC catalog on 2019-06-14. Most look like miscoded fields. Also of limited public use?</td></tr><tr><td>016</td><td>NATIONAL BIBLIOGRAPHIC AGENCY CONTROL NUMBER </td><td>temporary</td><td>low priority</td><td>Over 244,000 instances in UNC catalog on 2019-06-14. Could map to misc_id, but this was initially considereed a low priority.</td></tr><tr><td>017</td><td>COPYRIGHT OR LEGAL DEPOSIT NUMBER </td><td>temporary</td><td>infrequently used</td><td>154 instances in UNC catalog as of 2019-06-14. At least in our catalog, users can't expect to find this information consistently. Could map to misc_id if necessary.</td></tr><tr><td>018</td><td>COPYRIGHT ARTICLE-FEE CODE </td><td>permanent</td><td>limited public use</td><td>Unique identification code for component parts appearing in monographs or continuing resources. Cryptic. Unlikely to assist with discovery.</td></tr><tr><td>025</td><td>OVERSEAS ACQUISITION NUMBER </td><td>permanent</td><td>internal</td><td>Internal to Library of Congress. Means nothing for our institutions.</td></tr><tr><td>026</td><td>FINGERPRINT IDENTIFIER </td><td>permanent</td><td>internal</td><td>Used to assist in the identification of antiquarian books by recording information comprising groups of characters taken from specified positions on specified pages of the book. Example: 026 #\\#$ae-s- 11as$bs,me crth 3$c1797.$dv.1</td></tr><tr><td>031</td><td>MUSICAL INCIPITS INFORMATION </td><td>temporary</td><td>infrequently used</td><td>Only 5 instances of field in UNC catalog on 2019-06-14. Very cryptic and would take a lot of work to transform into something useful to end user. Could be useful in an eventual specialized music discovery tool, but this information might be coded elsewhere in the record in more usable ways.</td></tr><tr><td>032</td><td>POSTAL REGISTRATION NUMBER </td><td>permanent</td><td>internal</td><td>Number assigned to a publication for which the specified postal service permits the use of a special mailing class privilege.</td></tr><tr><td>033</td><td>DATE/TIME AND PLACE OF AN EVENT </td><td>temporary</td><td>limited public use</td><td>15,564 occurrences in UNC catalog on 2019-06-14. Could be useful, but this isn't really a chronological *subject* and it's not a publication, etc. date either. Would need to make decisions about whether this is useful for discovery and how to best use it.</td></tr><tr><td>034</td><td>CODED CARTOGRAPHIC MATHEMATICAL DATA </td><td>temporary</td><td>limited public use</td><td>56,450 occurrences in UNC catalog on 2019-06-14. Could be useful in specialized cartographic discovery tool, but doesn't contribute much in the context of our general discovery application. Cryptic, not easily translated into user-sensible display. Information is usually recorded in less structured, more user-readable way elsewhere in record.</td></tr><tr><td>036</td><td>ORIGINAL STUDY NUMBER FOR COMPUTER DATA FILES </td><td>temporary</td><td>infrequently used</td><td>5 occurrences in UNC catalog on 2019-06-14, all miscodings. Could fairly easily be mapped to misc_id if anyone else had more of this data and thought users would expect to search on or find this data in the catalog.</td></tr><tr><td>037</td><td>SOURCE OF ACQUISITION </td><td>permanent</td><td>internal</td><td>.</td></tr><tr><td>038</td><td>RECORD CONTENT LICENSOR </td><td>permanent</td><td>infrequently used</td><td>3 occurrences in UNC catalog on 2019-06-14. Highly unlikely to be kept updated/consistent in a library catalog. Of limited use for typical library discovery.</td></tr><tr><td>040</td><td>CATALOGING SOURCE </td><td>permanent</td><td>internal</td><td>Users don't care about the cataloging history of a record.</td></tr><tr><td>042</td><td>AUTHENTICATION CODE </td><td>permanent</td><td>internal</td><td>Cataloger use only</td></tr><tr><td>043</td><td>GEOGRAPHIC AREA CODE </td><td>temporary</td><td>redundant</td><td>Choice of geographic area code is usually based on the geographic names and/or subdivisions in 6XX subject added entry and index term fields. Revisit this decision if that practice ever changes.</td></tr><tr><td>045</td><td>TIME PERIOD OF CONTENT </td><td>temporary</td><td>complex</td><td>This could be very useful for discovery, but it'd be challenging to do it well. The field means something different for different formats, so we'd need to present it differently per format. Also the data is recorded in a cryptic way that would require complex transformation. Finally, we'd need to figure out how to present different types of dates (dates depicted, dates of content, dates of data generation, date of original composition (music), etc.)</td></tr><tr><td>046</td><td>SPECIAL CODED DATES </td><td>temporary</td><td>complex</td><td>Could be useful, but the assumptions of the current catalog include one main publication date. We have few materials that need to use this field in lieu of 008 because of BCE dates. Would need to tangle with how to usefully surface inclusive/bulk dates in UI.</td></tr><tr><td>048</td><td>NUMBER OF MUSICAL INSTRUMENTS OR VOICES CODE </td><td>temporary</td><td>complex</td><td>Structured, coded form of data usually recorded in a human-readable, less machine-actionable form elsewhere in the record. If we ever support more advanced limits/structured searching for music display, map this field.</td></tr><tr><td>055</td><td>CLASSIFICATION NUMBERS ASSIGNED IN CANADA </td><td>permanent</td><td>limited public use</td><td>.</td></tr><tr><td>066</td><td>CHARACTER SETS PRESENT </td><td>permanent</td><td>internal</td><td>.</td></tr><tr><td>070</td><td>NATIONAL AGRICULTURAL LIBRARY CALL NUMBER </td><td>permanent</td><td>limited public use</td><td>.</td></tr><tr><td>071</td><td>NATIONAL AGRICULTURAL LIBRARY COPY STATEMENT </td><td>permanent</td><td>limited public use</td><td>.</td></tr><tr><td>072</td><td>SUBJECT CATEGORY CODE </td><td>permanent</td><td>limited public use</td><td>.</td></tr><tr><td>080</td><td>UNIVERSAL DECIMAL CLASSIFICATION NUMBER </td><td>permanent</td><td>limited public use</td><td>.</td></tr><tr><td>084</td><td>OTHER CLASSIFICATION NUMBER </td><td>permanent</td><td>limited public use</td><td>.</td></tr><tr><td>306</td><td>PLAYING TIME </td><td>permanent</td><td>data unusable</td><td>Usually duplicates data recorded in 300 and/or 505. Recorded in a cryptic manner and there's no way to specify which duration recorded goes with which part of the described item, if it's a multi-part thing</td></tr><tr><td>307</td><td>HOURS, ETC. </td><td>permanent</td><td>irrelevant</td><td>No fields in UNC catalog. Hours an item is available is kind of a weird concept in the catalog, too.</td></tr><tr><td>336</td><td>CONTENT TYPE </td><td>temporary</td><td>low priority</td><td>Terms used are not user-friendly; this information is usually better expressed elsewhere in the record</td></tr><tr><td>337</td><td>MEDIA TYPE </td><td>temporary</td><td>low priority</td><td>Terms used are not user-friendly; this information is usually better expressed elsewhere in the record</td></tr><tr><td>338</td><td>CARRIER TYPE </td><td>temporary</td><td>low priority</td><td>Terms used are not user-friendly; this information is usually better expressed elsewhere in the record</td></tr><tr><td>342</td><td>GEOSPATIAL REFERENCE DATA </td><td>temporary</td><td>low priority</td><td>Complex data mapping; appears in <2000 records in UNC catalog on 2018-05-21. Need to assess if this adds useful info, and if so, how to map.</td></tr><tr><td>343</td><td>PLANAR COORDINATE DATA </td><td>temporary</td><td>infrequently used</td><td>only 2 records in UNC catalog</td></tr><tr><td>348</td><td>FORMAT OF NOTATED MUSIC </td><td>temporary</td><td>low priority</td><td>Look into whether it should map to genre</td></tr><tr><td>355</td><td>SECURITY CLASSIFICATION CONTROL </td><td>permanent</td><td>irrelevant</td><td>No records in UNC catalog</td></tr><tr><td>357</td><td>ORIGINATOR DISSEMINATION CONTROL </td><td>permanent</td><td>irrelevant</td><td>No records in UNC catalog</td></tr><tr><td>363</td><td>NORMALIZED DATE AND SEQUENTIAL DESIGNATION </td><td>permanent</td><td>data unusable</td><td>Holdings-like hell format specifying exact dates; only 10 in UNC catalog, most look like they should be 362s</td></tr><tr><td>370</td><td>ASSOCIATED PLACE </td><td>temporary</td><td>infrequently used</td><td>22 fields in UNC catalog -- maybe one day map to a subject-ish geographical entry or something?</td></tr><tr><td>377</td><td>ASSOCIATED LANGUAGE </td><td>temporary</td><td>infrequently used</td><td>1 field in UNC catalog -- maybe one day map to language facet if it adds unique info</td></tr><tr><td>380</td><td>FORM OF WORK </td><td>temporary</td><td>low priority</td><td>Look into mapping to genre</td></tr><tr><td>381</td><td>OTHER DISTINGUISHING CHARACTERISTICS OF WORK OR EXPRESSION </td><td>permanent</td><td>data unusable</td><td>Mishmash of different kinds of data issuing body, arranged statement of music, version, or a geographic term with no coding that tells you what the data is</td></tr><tr><td>383</td><td>NUMERIC DESIGNATION OF MUSICAL WORK </td><td>permanent</td><td>duplicate data</td><td>Currently duplicates data recorded in other parts of the record, particularly 130 and 240 fields.</td></tr><tr><td>385</td><td>AUDIENCE CHARACTERISTICS </td><td>temporary</td><td>low priority</td><td>Look into mapping to `note_general` with label `For audiences`</td></tr><tr><td>386</td><td>CREATOR/CONTRIBUTOR CHARACTERISTICS </td><td>temporary</td><td>infrequently used</td><td>Could eventually leverage in some \\\"Works by\\\" field, but only 248 fields in UNC's catalog today 2018-05-18</td></tr><tr><td>388</td><td>TIME PERIOD OF CREATION </td><td>temporary</td><td>infrequently used</td><td>Only 3 fields in UNC catalog on 2018-05-18. Eventually could be mapped as a chronological subject or something.</td></tr><tr><td>530</td><td>ADDITIONAL PHYSICAL FORM AVAILABLE NOTE </td><td>permanent</td><td>limited public use</td><td>Patrons do not care if item is available in another format if they cannot get to that format from our catalog. Midleading if not adjusted and kept current with our holdings</td></tr><tr><td>583</td><td>ACTION NOTE </td><td>permanent</td><td>internal</td><td>Only select librarians can interpret and understand what this field means. Important for internal library work. Irrelevant for discovery.</td></tr><tr><td>588</td><td>SOURCE OF DESCRIPTION NOTE </td><td>permanent</td><td>limited public use</td><td>Public does not care what part of an item was used to create catalog description.</td></tr><tr><td>776</td><td>ADDITIONAL PHYSICAL FORM ENTRY </td><td>permanent</td><td>limited public use</td><td>Patrons do not care if item is available in another format if they cannot get to that format from our catalog. Midleading if not adjusted and kept current with our holdings</td></tr></table>\""
      ]
     },
     "metadata": {},
     "output_type": "display_data"
    },
    {
     "data": {
      "text/plain": [
       "#<CZTop::Socket::PUB:0x2bfb3c0 last_endpoint=\"tcp://127.0.0.1:54244\">"
      ]
     },
     "execution_count": 5,
     "metadata": {},
     "output_type": "execute_result"
    }
   ],
   "source": [
    "IRuby.display IRuby.table(unmapped_tag_table, maxrows: 200)"
   ]
  },
  {
   "cell_type": "markdown",
   "metadata": {},
   "source": [
    "The following prepares a list of all other **non-obsolete, non-local** unmapped MARC variable fields we haven't made an explicit decision about:"
   ]
  },
  {
   "cell_type": "code",
   "execution_count": 6,
   "metadata": {},
   "outputs": [
    {
     "name": "stdout",
     "output_type": "stream",
     "text": [
      "\n"
     ]
    }
   ],
   "source": [
    "unmapped = {}\n",
    "marc_spec.each do |tag, info|\n",
    "  if mapping_hash.has_key?(tag)\n",
    "    next\n",
    "  elsif unmapped_fields.has_key?(tag)\n",
    "    next\n",
    "  elsif tag =~ /00[356789]/\n",
    "    next\n",
    "  elsif info['context'] =~ /OBSOLETE|LOCAL/\n",
    "  else\n",
    "    unmapped[tag] = {'name' => info['name'].strip,\n",
    "                     'context' => info['context']\n",
    "      }\n",
    "  end\n",
    "end\n",
    "\n",
    "table2 = { 'MARC tag' => [],\n",
    "           'Description' => [],\n",
    "           'Note' => []\n",
    "         }\n",
    "unmapped.sort.each do |tag, info|\n",
    "  table2['MARC tag'] << tag\n",
    "  table2['Description'] << info['name']\n",
    "  table2['Note'] << info['context']\n",
    "end\n",
    "puts ''"
   ]
  },
  {
   "cell_type": "markdown",
   "metadata": {},
   "source": [
    "Number of unmapped MARC tags:"
   ]
  },
  {
   "cell_type": "code",
   "execution_count": 7,
   "metadata": {},
   "outputs": [
    {
     "name": "stdout",
     "output_type": "stream",
     "text": [
      "55\n"
     ]
    }
   ],
   "source": [
    "puts table2['MARC tag'].size"
   ]
  },
  {
   "cell_type": "markdown",
   "metadata": {},
   "source": [
    "### Unmapped MARC fields without recorded decision and/or justification <a class=\"anchor\" id=\"unmapped-fields-to-decide\"></a>"
   ]
  },
  {
   "cell_type": "code",
   "execution_count": 8,
   "metadata": {},
   "outputs": [
    {
     "data": {
      "text/html": [
       "<table><tr><th>MARC tag</th><th>Description</th><th>Note</th></tr><tr><td>050</td><td>LIBRARY OF CONGRESS CALL NUMBER</td><td></td></tr><tr><td>051</td><td>LIBRARY OF CONGRESS COPY, ISSUE, OFFPRINT STATEMENT</td><td></td></tr><tr><td>052</td><td>GEOGRAPHIC CLASSIFICATION</td><td></td></tr><tr><td>060</td><td>NATIONAL LIBRARY OF MEDICINE CALL NUMBER</td><td></td></tr><tr><td>061</td><td>NATIONAL LIBRARY OF MEDICINE COPY STATEMENT</td><td></td></tr><tr><td>082</td><td>DEWEY DECIMAL CLASSIFICATION NUMBER</td><td></td></tr><tr><td>083</td><td>ADDITIONAL DEWEY DECIMAL CLASSIFICATION NUMBER</td><td></td></tr><tr><td>085</td><td>SYNTHESIZED CLASSIFICATION NUMBER COMPONENTS</td><td></td></tr><tr><td>086</td><td>GOVERNMENT DOCUMENT CLASSIFICATION NUMBER</td><td></td></tr><tr><td>242</td><td>TRANSLATION OF TITLE BY CATALOGING AGENCY</td><td></td></tr><tr><td>243</td><td>COLLECTIVE UNIFORM TITLE</td><td></td></tr><tr><td>256</td><td>COMPUTER FILE CHARACTERISTICS</td><td></td></tr><tr><td>258</td><td>PHILATELIC ISSUE DATE</td><td></td></tr><tr><td>263</td><td>PROJECTED PUBLICATION DATE</td><td></td></tr><tr><td>270</td><td>ADDRESS</td><td></td></tr><tr><td>341</td><td>ACCESSIBILITY CONTENT</td><td></td></tr><tr><td>365</td><td>TRADE PRICE</td><td></td></tr><tr><td>366</td><td>TRADE AVAILABILITY INFORMATION</td><td></td></tr><tr><td>532</td><td>ACCESSIBILITY NOTE</td><td></td></tr><tr><td>542</td><td>INFORMATION RELATING TO COPYRIGHT STATUS</td><td></td></tr><tr><td>552</td><td>ENTITY AND ATTRIBUTE INFORMATION NOTE</td><td></td></tr><tr><td>565</td><td>CASE FILE CHARACTERISTICS NOTE</td><td></td></tr><tr><td>584</td><td>ACCUMULATION AND FREQUENCY OF USE NOTE</td><td></td></tr><tr><td>654</td><td>SUBJECT ADDED ENTRY--FACETED TOPICAL TERMS</td><td></td></tr><tr><td>658</td><td>INDEX TERM--CURRICULUM OBJECTIVE</td><td></td></tr><tr><td>751</td><td>ADDED ENTRY--GEOGRAPHIC NAME</td><td></td></tr><tr><td>753</td><td>SYSTEM DETAILS ACCESS TO COMPUTER FILES</td><td></td></tr><tr><td>754</td><td>ADDED ENTRY--TAXONOMIC IDENTIFICATION</td><td></td></tr><tr><td>758</td><td>RESOURCE IDENTIFIER</td><td></td></tr><tr><td>841</td><td>HOLDINGS CODED DATA VALUES</td><td></td></tr><tr><td>842</td><td>TEXTUAL PHYSICAL FORM DESIGNATOR</td><td></td></tr><tr><td>843</td><td>REPRODUCTION NOTE</td><td></td></tr><tr><td>844</td><td>NAME OF UNIT</td><td></td></tr><tr><td>845</td><td>TERMS GOVERNING USE AND REPRODUCTION NOTE</td><td></td></tr><tr><td>850</td><td>HOLDING INSTITUTION</td><td></td></tr><tr><td>852</td><td>LOCATION</td><td></td></tr><tr><td>853</td><td>CAPTIONS AND PATTERN--BASIC BIBLIOGRAPHIC UNIT</td><td></td></tr><tr><td>854</td><td>CAPTIONS AND PATTERN--SUPPLEMENTARY MATERIAL</td><td></td></tr><tr><td>855</td><td>CAPTIONS AND PATTERN--INDEXES</td><td></td></tr><tr><td>863</td><td>ENUMERATION AND CHRONOLOGY--BASIC BIBLIOGRAPHIC UNIT</td><td></td></tr><tr><td>864</td><td>ENUMERATION AND CHRONOLOGY--SUPPLEMENTARY MATERIAL</td><td></td></tr><tr><td>865</td><td>ENUMERATION AND CHRONOLOGY--INDEXES</td><td></td></tr><tr><td>866</td><td>TEXTUAL HOLDINGS--BASIC BIBLIOGRAPHIC UNIT</td><td></td></tr><tr><td>867</td><td>TEXTUAL HOLDINGS--SUPPLEMENTARY MATERIAL</td><td></td></tr><tr><td>868</td><td>TEXTUAL HOLDINGS--INDEXES</td><td></td></tr><tr><td>876</td><td>ITEM INFORMATION--BASIC BIBLIOGRAPHIC UNIT</td><td></td></tr><tr><td>877</td><td>ITEM INFORMATION--SUPPLEMENTARY MATERIAL</td><td></td></tr><tr><td>878</td><td>ITEM INFORMATION--INDEXES</td><td></td></tr><tr><td>880</td><td>ALTERNATE GRAPHIC REPRESENTATION</td><td></td></tr><tr><td>882</td><td>REPLACEMENT RECORD INFORMATION</td><td></td></tr><tr><td>883</td><td>MACHINE-GENERATED METADATA PROVENANCE</td><td></td></tr><tr><td>884</td><td>DESCRIPTION CONVERSION INFORMATION</td><td></td></tr><tr><td>885</td><td>MATCHING INFORMATION</td><td></td></tr><tr><td>886</td><td>FOREIGN MARC INFORMATION FIELD</td><td></td></tr><tr><td>887</td><td>NON-MARC INFORMATION FIELD</td><td></td></tr></table>"
      ],
      "text/plain": [
       "\"<table><tr><th>MARC tag</th><th>Description</th><th>Note</th></tr><tr><td>050</td><td>LIBRARY OF CONGRESS CALL NUMBER</td><td></td></tr><tr><td>051</td><td>LIBRARY OF CONGRESS COPY, ISSUE, OFFPRINT STATEMENT</td><td></td></tr><tr><td>052</td><td>GEOGRAPHIC CLASSIFICATION</td><td></td></tr><tr><td>060</td><td>NATIONAL LIBRARY OF MEDICINE CALL NUMBER</td><td></td></tr><tr><td>061</td><td>NATIONAL LIBRARY OF MEDICINE COPY STATEMENT</td><td></td></tr><tr><td>082</td><td>DEWEY DECIMAL CLASSIFICATION NUMBER</td><td></td></tr><tr><td>083</td><td>ADDITIONAL DEWEY DECIMAL CLASSIFICATION NUMBER</td><td></td></tr><tr><td>085</td><td>SYNTHESIZED CLASSIFICATION NUMBER COMPONENTS</td><td></td></tr><tr><td>086</td><td>GOVERNMENT DOCUMENT CLASSIFICATION NUMBER</td><td></td></tr><tr><td>242</td><td>TRANSLATION OF TITLE BY CATALOGING AGENCY</td><td></td></tr><tr><td>243</td><td>COLLECTIVE UNIFORM TITLE</td><td></td></tr><tr><td>256</td><td>COMPUTER FILE CHARACTERISTICS</td><td></td></tr><tr><td>258</td><td>PHILATELIC ISSUE DATE</td><td></td></tr><tr><td>263</td><td>PROJECTED PUBLICATION DATE</td><td></td></tr><tr><td>270</td><td>ADDRESS</td><td></td></tr><tr><td>341</td><td>ACCESSIBILITY CONTENT</td><td></td></tr><tr><td>365</td><td>TRADE PRICE</td><td></td></tr><tr><td>366</td><td>TRADE AVAILABILITY INFORMATION</td><td></td></tr><tr><td>532</td><td>ACCESSIBILITY NOTE</td><td></td></tr><tr><td>542</td><td>INFORMATION RELATING TO COPYRIGHT STATUS</td><td></td></tr><tr><td>552</td><td>ENTITY AND ATTRIBUTE INFORMATION NOTE</td><td></td></tr><tr><td>565</td><td>CASE FILE CHARACTERISTICS NOTE</td><td></td></tr><tr><td>584</td><td>ACCUMULATION AND FREQUENCY OF USE NOTE</td><td></td></tr><tr><td>654</td><td>SUBJECT ADDED ENTRY--FACETED TOPICAL TERMS</td><td></td></tr><tr><td>658</td><td>INDEX TERM--CURRICULUM OBJECTIVE</td><td></td></tr><tr><td>751</td><td>ADDED ENTRY--GEOGRAPHIC NAME</td><td></td></tr><tr><td>753</td><td>SYSTEM DETAILS ACCESS TO COMPUTER FILES</td><td></td></tr><tr><td>754</td><td>ADDED ENTRY--TAXONOMIC IDENTIFICATION</td><td></td></tr><tr><td>758</td><td>RESOURCE IDENTIFIER</td><td></td></tr><tr><td>841</td><td>HOLDINGS CODED DATA VALUES</td><td></td></tr><tr><td>842</td><td>TEXTUAL PHYSICAL FORM DESIGNATOR</td><td></td></tr><tr><td>843</td><td>REPRODUCTION NOTE</td><td></td></tr><tr><td>844</td><td>NAME OF UNIT</td><td></td></tr><tr><td>845</td><td>TERMS GOVERNING USE AND REPRODUCTION NOTE</td><td></td></tr><tr><td>850</td><td>HOLDING INSTITUTION</td><td></td></tr><tr><td>852</td><td>LOCATION</td><td></td></tr><tr><td>853</td><td>CAPTIONS AND PATTERN--BASIC BIBLIOGRAPHIC UNIT</td><td></td></tr><tr><td>854</td><td>CAPTIONS AND PATTERN--SUPPLEMENTARY MATERIAL</td><td></td></tr><tr><td>855</td><td>CAPTIONS AND PATTERN--INDEXES</td><td></td></tr><tr><td>863</td><td>ENUMERATION AND CHRONOLOGY--BASIC BIBLIOGRAPHIC UNIT</td><td></td></tr><tr><td>864</td><td>ENUMERATION AND CHRONOLOGY--SUPPLEMENTARY MATERIAL</td><td></td></tr><tr><td>865</td><td>ENUMERATION AND CHRONOLOGY--INDEXES</td><td></td></tr><tr><td>866</td><td>TEXTUAL HOLDINGS--BASIC BIBLIOGRAPHIC UNIT</td><td></td></tr><tr><td>867</td><td>TEXTUAL HOLDINGS--SUPPLEMENTARY MATERIAL</td><td></td></tr><tr><td>868</td><td>TEXTUAL HOLDINGS--INDEXES</td><td></td></tr><tr><td>876</td><td>ITEM INFORMATION--BASIC BIBLIOGRAPHIC UNIT</td><td></td></tr><tr><td>877</td><td>ITEM INFORMATION--SUPPLEMENTARY MATERIAL</td><td></td></tr><tr><td>878</td><td>ITEM INFORMATION--INDEXES</td><td></td></tr><tr><td>880</td><td>ALTERNATE GRAPHIC REPRESENTATION</td><td></td></tr><tr><td>882</td><td>REPLACEMENT RECORD INFORMATION</td><td></td></tr><tr><td>883</td><td>MACHINE-GENERATED METADATA PROVENANCE</td><td></td></tr><tr><td>884</td><td>DESCRIPTION CONVERSION INFORMATION</td><td></td></tr><tr><td>885</td><td>MATCHING INFORMATION</td><td></td></tr><tr><td>886</td><td>FOREIGN MARC INFORMATION FIELD</td><td></td></tr><tr><td>887</td><td>NON-MARC INFORMATION FIELD</td><td></td></tr></table>\""
      ]
     },
     "metadata": {},
     "output_type": "display_data"
    },
    {
     "data": {
      "text/plain": [
       "#<CZTop::Socket::PUB:0x2bfb3c0 last_endpoint=\"tcp://127.0.0.1:54244\">"
      ]
     },
     "execution_count": 8,
     "metadata": {},
     "output_type": "execute_result"
    }
   ],
   "source": [
    "IRuby.display IRuby.table(table2, maxrows: 100)"
   ]
  },
  {
   "cell_type": "markdown",
   "metadata": {},
   "source": [
    "## Unmapped MARC, subfield level\n",
    "Here, we are looking at subfields in MARC fields that are at least partly mapped to Argot. \n",
    "What subfields in such partially mapped fields are **not** mapped to Argot? \n",
    "\n",
    "The code below prepares our subfield exclusion decisions for display:"
   ]
  },
  {
   "cell_type": "code",
   "execution_count": 9,
   "metadata": {},
   "outputs": [
    {
     "data": {
      "text/plain": [
       "[[\"020\", {\"c\"=>{\"omission_type\"=>\"permanent\", \"omission_reason_category\"=>\"data quality/currency; misleading to public\", \"omission_details\"=>\"Terms of availability change rapidly. We do not keep this field updated. Do not mislead patrons about how much a thing costs.\"}}], [\"022\", {\"m\"=>{\"omission_type\"=>nil, \"omission_reason_category\"=>nil, \"omission_details\"=>nil}, \"y\"=>{\"omission_type\"=>nil, \"omission_reason_category\"=>nil, \"omission_details\"=>nil}, \"z\"=>{\"omission_type\"=>nil, \"omission_reason_category\"=>nil, \"omission_details\"=>nil}}], [\"024\", {\"c\"=>{\"omission_type\"=>\"permanent\", \"omission_reason_category\"=>\"data quality/currency; misleading to public\", \"omission_details\"=>\"Terms of availability change rapidly. We do not keep this field updated. Do not mislead patrons about how much a thing costs.\"}}], [\"044\", {\"b\"=>{\"omission_type\"=>\"temporary\", \"omission_reason_category\"=>\"low priority\", \"omission_details\"=>\"UNC has no data in this subfield. Consider mapping to origin_place fields if $2 value is set and use of subfield increases\"}, \"c\"=>{\"omission_type\"=>\"temporary\", \"omission_reason_category\"=>\"low priority\", \"omission_details\"=>\"UNC 835 instances of 044s with this subfield on 2019-06-14. Many of them recode teh country coded in the $a. Consider mapping to origin_place fields if amount of unique data in this subfield increases.\"}}], [\"567\", {\"b\"=>{\"omission_type\"=>\"temporary\", \"omission_reason_category\"=>\"low priority\", \"omission_details\"=>\"UNC has no data in this subfield. Consider mapping to genre_headings and subject_genre if ever meaningfully populated\"}}]]"
      ]
     },
     "execution_count": 9,
     "metadata": {},
     "output_type": "execute_result"
    }
   ],
   "source": [
    "unmapped_sf_table = { 'MARC tag' => [],\n",
    "                      'Subfield code' => [],\n",
    "                       'Field name' => [],\n",
    "                       'Subfield name' => [],\n",
    "                       'Omission type' => [],\n",
    "                       'Omission category' => [],\n",
    "                       'Details' => []\n",
    "                     }\n",
    "unmapped_subfields.sort.each do |tag, sfs|\n",
    "  sfs.each do |code, info|\n",
    "    unmapped_sf_table['MARC tag'] << tag\n",
    "    unmapped_sf_table['Subfield code'] << code\n",
    "    unmapped_sf_table['Field name'] << marc_spec[tag]['name']\n",
    "    unmapped_sf_table['Subfield name'] << marc_spec[tag]['subfields'][code]['name']\n",
    "    unmapped_sf_table['Omission type'] << info['omission_type']\n",
    "    unmapped_sf_table['Omission category'] << info['omission_reason_category']\n",
    "    unmapped_sf_table['Details'] << info['omission_details']\n",
    "  end\n",
    "end"
   ]
  },
  {
   "cell_type": "markdown",
   "metadata": {},
   "source": [
    "### Explicit subfield exclusion decisions:<a class=\"anchor\" id=\"unmapped-subfield-decisions\"></a>"
   ]
  },
  {
   "cell_type": "code",
   "execution_count": 10,
   "metadata": {},
   "outputs": [
    {
     "data": {
      "text/html": [
       "<table><tr><th>MARC tag</th><th>Subfield code</th><th>Field name</th><th>Subfield name</th><th>Omission type</th><th>Omission category</th><th>Details</th></tr><tr><td>020</td><td>c</td><td>INTERNATIONAL STANDARD BOOK NUMBER </td><td>Terms of availability</td><td>permanent</td><td>data quality/currency; misleading to public</td><td>Terms of availability change rapidly. We do not keep this field updated. Do not mislead patrons about how much a thing costs.</td></tr><tr><td>022</td><td>m</td><td>INTERNATIONAL STANDARD SERIAL NUMBER </td><td>Canceled ISSN-L</td><td></td><td></td><td></td></tr><tr><td>022</td><td>y</td><td>INTERNATIONAL STANDARD SERIAL NUMBER </td><td>Incorrect ISSN</td><td></td><td></td><td></td></tr><tr><td>022</td><td>z</td><td>INTERNATIONAL STANDARD SERIAL NUMBER </td><td>Canceled ISSN</td><td></td><td></td><td></td></tr><tr><td>024</td><td>c</td><td>OTHER STANDARD IDENTIFIER </td><td>Terms of availability</td><td>permanent</td><td>data quality/currency; misleading to public</td><td>Terms of availability change rapidly. We do not keep this field updated. Do not mislead patrons about how much a thing costs.</td></tr><tr><td>044</td><td>b</td><td>COUNTRY OF PUBLISHING/PRODUCING ENTITY CODE </td><td>Local subentity code</td><td>temporary</td><td>low priority</td><td>UNC has no data in this subfield. Consider mapping to origin_place fields if $2 value is set and use of subfield increases</td></tr><tr><td>044</td><td>c</td><td>COUNTRY OF PUBLISHING/PRODUCING ENTITY CODE </td><td>ISO country code</td><td>temporary</td><td>low priority</td><td>UNC 835 instances of 044s with this subfield on 2019-06-14. Many of them recode teh country coded in the $a. Consider mapping to origin_place fields if amount of unique data in this subfield increases.</td></tr><tr><td>567</td><td>b</td><td>METHODOLOGY NOTE </td><td>Controlled term</td><td>temporary</td><td>low priority</td><td>UNC has no data in this subfield. Consider mapping to genre_headings and subject_genre if ever meaningfully populated</td></tr></table>"
      ],
      "text/plain": [
       "\"<table><tr><th>MARC tag</th><th>Subfield code</th><th>Field name</th><th>Subfield name</th><th>Omission type</th><th>Omission category</th><th>Details</th></tr><tr><td>020</td><td>c</td><td>INTERNATIONAL STANDARD BOOK NUMBER </td><td>Terms of availability</td><td>permanent</td><td>data quality/currency; misleading to public</td><td>Terms of availability change rapidly. We do not keep this field updated. Do not mislead patrons about how much a thing costs.</td></tr><tr><td>022</td><td>m</td><td>INTERNATIONAL STANDARD SERIAL NUMBER </td><td>Canceled ISSN-L</td><td></td><td></td><td></td></tr><tr><td>022</td><td>y</td><td>INTERNATIONAL STANDARD SERIAL NUMBER </td><td>Incorrect ISSN</td><td></td><td></td><td></td></tr><tr><td>022</td><td>z</td><td>INTERNATIONAL STANDARD SERIAL NUMBER </td><td>Canceled ISSN</td><td></td><td></td><td></td></tr><tr><td>024</td><td>c</td><td>OTHER STANDARD IDENTIFIER </td><td>Terms of availability</td><td>permanent</td><td>data quality/currency; misleading to public</td><td>Terms of availability change rapidly. We do not keep this field updated. Do not mislead patrons about how much a thing costs.</td></tr><tr><td>044</td><td>b</td><td>COUNTRY OF PUBLISHING/PRODUCING ENTITY CODE </td><td>Local subentity code</td><td>temporary</td><td>low priority</td><td>UNC has no data in this subfield. Consider mapping to origin_place fields if $2 value is set and use of subfield increases</td></tr><tr><td>044</td><td>c</td><td>COUNTRY OF PUBLISHING/PRODUCING ENTITY CODE </td><td>ISO country code</td><td>temporary</td><td>low priority</td><td>UNC 835 instances of 044s with this subfield on 2019-06-14. Many of them recode teh country coded in the $a. Consider mapping to origin_place fields if amount of unique data in this subfield increases.</td></tr><tr><td>567</td><td>b</td><td>METHODOLOGY NOTE </td><td>Controlled term</td><td>temporary</td><td>low priority</td><td>UNC has no data in this subfield. Consider mapping to genre_headings and subject_genre if ever meaningfully populated</td></tr></table>\""
      ]
     },
     "metadata": {},
     "output_type": "display_data"
    },
    {
     "data": {
      "text/plain": [
       "#<CZTop::Socket::PUB:0x2bfb3c0 last_endpoint=\"tcp://127.0.0.1:54244\">"
      ]
     },
     "execution_count": 10,
     "metadata": {},
     "output_type": "execute_result"
    }
   ],
   "source": [
    "IRuby.display IRuby.table(unmapped_sf_table, maxrows: 100)"
   ]
  },
  {
   "cell_type": "markdown",
   "metadata": {},
   "source": [
    "### Unmapped subfields from MARC specification\n",
    "These subfields may have been overlooked. If an explicit decision has been made to exclude this subfield from mapping to Argot, that decision should be documented in https://github.com/trln/data-documentation/blob/master/marc/unmapped_marc_subfields.json\n",
    "\n",
    "First we flatten out all subfield data so it's easier to work with:"
   ]
  },
  {
   "cell_type": "code",
   "execution_count": 11,
   "metadata": {},
   "outputs": [
    {
     "name": "stdout",
     "output_type": "stream",
     "text": [
      "Number of subfields: 2533\n"
     ]
    }
   ],
   "source": [
    "subfields = []\n",
    "marc_spec.each do |tag, info|\n",
    "  if info['subfields'].size > 0\n",
    "    info['subfields'].each do |code, sfinfo|\n",
    "      subfields << {'tag' => tag,\n",
    "        'code' => code,\n",
    "        'name' => \"#{info['name']} - #{sfinfo['name']}\",\n",
    "        'context' => sfinfo['context']}      \n",
    "    end\n",
    "  end\n",
    "end\n",
    "\n",
    "puts \"Number of subfields: #{subfields.size}\""
   ]
  },
  {
   "cell_type": "markdown",
   "metadata": {},
   "source": [
    "Then, get rid of subfields that are in unmapped MARC fields. Keep only those whose field tag appears in our mappings spreadsheet."
   ]
  },
  {
   "cell_type": "code",
   "execution_count": 12,
   "metadata": {},
   "outputs": [
    {
     "name": "stdout",
     "output_type": "stream",
     "text": [
      "Number of subfields: 1554\n"
     ]
    }
   ],
   "source": [
    "subfields.select!{ |sf| mapping_hash.has_key?(sf['tag']) }\n",
    "puts \"Number of subfields: #{subfields.size}\""
   ]
  },
  {
   "cell_type": "markdown",
   "metadata": {},
   "source": [
    "Then, remove:\n",
    "* Obsolete or local subfields\n",
    "* Subfield 0 where subfield name = Authority record control number or standard number\n",
    "* Subfield 1 where subfield name = Real World Object URI\n",
    "* Subfield 2 where subfield name starts with Source\n",
    "* Subfield 6 where subfield name = Linkage\n",
    "* Subfield 7 where subfield name = Control subfield\n",
    "* Subfield 8 where subfield name = Field link and sequence number"
   ]
  },
  {
   "cell_type": "code",
   "execution_count": 13,
   "metadata": {},
   "outputs": [
    {
     "name": "stdout",
     "output_type": "stream",
     "text": [
      "Number of subfields: 1129\n"
     ]
    }
   ],
   "source": [
    "subfields.reject!{ |sf| sf['code'] == '0' && sf['name'] =~ / - Authority record control number/  }\n",
    "subfields.reject!{ |sf| sf['code'] == '1' && sf['name'] =~ / - Real World Object URI/ }\n",
    "subfields.reject!{ |sf| sf['code'] == '2' && sf['name'] =~ / - Source/ }\n",
    "subfields.reject!{ |sf| sf['code'] == '6' && sf['name'] =~ / - Linkage/ }\n",
    "subfields.reject!{ |sf| sf['code'] == '7' && sf['name'] =~ / - Control subfield/ }\n",
    "subfields.reject!{ |sf| sf['code'] == '8' && sf['name'] =~ / - Field link and sequence number/ }\n",
    "subfields.reject!{ |sf| sf['context'] =~ /OBSOLETE|LOCAL/ }\n",
    "puts \"Number of subfields: #{subfields.size}\""
   ]
  },
  {
   "cell_type": "markdown",
   "metadata": {},
   "source": [
    "Then, remove subfields we have mapped in Argot spreadsheet:"
   ]
  },
  {
   "cell_type": "code",
   "execution_count": 14,
   "metadata": {},
   "outputs": [
    {
     "name": "stdout",
     "output_type": "stream",
     "text": [
      "Number of subfields: 155\n"
     ]
    }
   ],
   "source": [
    "subfields.reject!{ |sf| mapping_hash.has_key?(sf['tag']) && mapping_hash[sf['tag']].has_key?(sf['code']) }\n",
    "puts \"Number of subfields: #{subfields.size}\""
   ]
  },
  {
   "cell_type": "markdown",
   "metadata": {},
   "source": [
    "Then, prepare the remaining unmapped subfields to be output as a table for analysis:"
   ]
  },
  {
   "cell_type": "code",
   "execution_count": 15,
   "metadata": {},
   "outputs": [
    {
     "data": {
      "text/plain": [
       "[{\"tag\"=>\"015\", \"code\"=>\"z\", \"name\"=>\"NATIONAL BIBLIOGRAPHY NUMBER  - Canceled/Invalid national bibliography number\", \"context\"=>\"\"}, {\"tag\"=>\"020\", \"code\"=>\"c\", \"name\"=>\"INTERNATIONAL STANDARD BOOK NUMBER  - Terms of availability\", \"context\"=>\"\"}, {\"tag\"=>\"022\", \"code\"=>\"m\", \"name\"=>\"INTERNATIONAL STANDARD SERIAL NUMBER  - Canceled ISSN-L\", \"context\"=>\"\"}, {\"tag\"=>\"022\", \"code\"=>\"y\", \"name\"=>\"INTERNATIONAL STANDARD SERIAL NUMBER  - Incorrect ISSN\", \"context\"=>\"\"}, {\"tag\"=>\"022\", \"code\"=>\"z\", \"name\"=>\"INTERNATIONAL STANDARD SERIAL NUMBER  - Canceled ISSN\", \"context\"=>\"\"}, {\"tag\"=>\"024\", \"code\"=>\"c\", \"name\"=>\"OTHER STANDARD IDENTIFIER  - Terms of availability\", \"context\"=>\"\"}, {\"tag\"=>\"028\", \"code\"=>\"a\", \"name\"=>\"PUBLISHER NUMBER OR DISTRIBUTOR NUMBER  - Publisher or distributor number\", \"context\"=>\"\"}, {\"tag\"=>\"035\", \"code\"=>\"z\", \"name\"=>\"SYSTEM CONTROL NUMBER  - Canceled/invalid control number\", \"context\"=>\"\"}, {\"tag\"=>\"041\", \"code\"=>\"b\", \"name\"=>\"LANGUAGE CODE  - Language code of summary or abstract\", \"context\"=>\"\"}, {\"tag\"=>\"041\", \"code\"=>\"f\", \"name\"=>\"LANGUAGE CODE  - Language code of table of contents\", \"context\"=>\"\"}, {\"tag\"=>\"041\", \"code\"=>\"h\", \"name\"=>\"LANGUAGE CODE  - Language code of original\", \"context\"=>\"\"}, {\"tag\"=>\"041\", \"code\"=>\"j\", \"name\"=>\"LANGUAGE CODE  - Language code of subtitles\", \"context\"=>\"\"}, {\"tag\"=>\"041\", \"code\"=>\"k\", \"name\"=>\"LANGUAGE CODE  - Language code of intermediate translations\", \"context\"=>\"\"}, {\"tag\"=>\"041\", \"code\"=>\"m\", \"name\"=>\"LANGUAGE CODE  - Language code of original accompanying materials other than librettos\", \"context\"=>\"\"}, {\"tag\"=>\"041\", \"code\"=>\"n\", \"name\"=>\"LANGUAGE CODE  - Language code of original libretto\", \"context\"=>\"\"}, {\"tag\"=>\"041\", \"code\"=>\"p\", \"name\"=>\"LANGUAGE CODE  - Language code of captions\", \"context\"=>\"\"}, {\"tag\"=>\"041\", \"code\"=>\"q\", \"name\"=>\"LANGUAGE CODE  - Language code of accessible audio\", \"context\"=>\"\"}, {\"tag\"=>\"041\", \"code\"=>\"r\", \"name\"=>\"LANGUAGE CODE  - Language code of accessible visual language\", \"context\"=>\"\"}, {\"tag\"=>\"044\", \"code\"=>\"b\", \"name\"=>\"COUNTRY OF PUBLISHING/PRODUCING ENTITY CODE  - Local subentity code\", \"context\"=>\"\"}, {\"tag\"=>\"044\", \"code\"=>\"c\", \"name\"=>\"COUNTRY OF PUBLISHING/PRODUCING ENTITY CODE  - ISO country code\", \"context\"=>\"\"}, {\"tag\"=>\"210\", \"code\"=>\"b\", \"name\"=>\"ABBREVIATED TITLE  - Qualifying information\", \"context\"=>\"\"}, {\"tag\"=>\"245\", \"code\"=>\"h\", \"name\"=>\"TITLE STATEMENT  - Medium\", \"context\"=>\"\"}, {\"tag\"=>\"246\", \"code\"=>\"5\", \"name\"=>\"VARYING FORM OF TITLE  - Institution to which field applies\", \"context\"=>\"\"}, {\"tag\"=>\"340\", \"code\"=>\"3\", \"name\"=>\"PHYSICAL MEDIUM  - Materials specified\", \"context\"=>\"\"}, {\"tag\"=>\"344\", \"code\"=>\"3\", \"name\"=>\"SOUND CHARACTERISTICS  - Materials specified\", \"context\"=>\"\"}, {\"tag\"=>\"345\", \"code\"=>\"3\", \"name\"=>\"PROJECTION CHARACTERISTICS OF MOVING IMAGE  - Materials specified\", \"context\"=>\"\"}, {\"tag\"=>\"346\", \"code\"=>\"3\", \"name\"=>\"VIDEO CHARACTERISTICS  - Materials specified\", \"context\"=>\"\"}, {\"tag\"=>\"347\", \"code\"=>\"3\", \"name\"=>\"DIGITAL FILE CHARACTERISTICS  - Materials specified\", \"context\"=>\"\"}, {\"tag\"=>\"382\", \"code\"=>\"e\", \"name\"=>\"MEDIUM OF PERFORMANCE  - Number of ensembles of the same type\", \"context\"=>\"\"}, {\"tag\"=>\"382\", \"code\"=>\"n\", \"name\"=>\"MEDIUM OF PERFORMANCE  - Number of performers of the same medium\", \"context\"=>\"\"}, {\"tag\"=>\"382\", \"code\"=>\"r\", \"name\"=>\"MEDIUM OF PERFORMANCE  - Total number of individuals performing alongside ensembles\", \"context\"=>\"\"}, {\"tag\"=>\"382\", \"code\"=>\"s\", \"name\"=>\"MEDIUM OF PERFORMANCE  - Total number of performers\", \"context\"=>\"\"}, {\"tag\"=>\"382\", \"code\"=>\"t\", \"name\"=>\"MEDIUM OF PERFORMANCE  - Total number of ensembles\", \"context\"=>\"\"}, {\"tag\"=>\"382\", \"code\"=>\"v\", \"name\"=>\"MEDIUM OF PERFORMANCE  - Note\", \"context\"=>\"\"}, {\"tag\"=>\"382\", \"code\"=>\"3\", \"name\"=>\"MEDIUM OF PERFORMANCE  - Materials specified\", \"context\"=>\"\"}, {\"tag\"=>\"384\", \"code\"=>\"3\", \"name\"=>\"KEY  - Materials specified\", \"context\"=>\"\"}, {\"tag\"=>\"500\", \"code\"=>\"5\", \"name\"=>\"GENERAL NOTE  - Institution to which field applies\", \"context\"=>\"\"}, {\"tag\"=>\"501\", \"code\"=>\"5\", \"name\"=>\"WITH NOTE  - Institution to which field applies\", \"context\"=>\"\"}, {\"tag\"=>\"502\", \"code\"=>\"o\", \"name\"=>\"DISSERTATION NOTE  - Dissertation identifier\", \"context\"=>\"\"}, {\"tag\"=>\"505\", \"code\"=>\"u\", \"name\"=>\"FORMATTED CONTENTS NOTE  - Uniform Resource Identifier\", \"context\"=>\"\"}, {\"tag\"=>\"506\", \"code\"=>\"g\", \"name\"=>\"RESTRICTIONS ON ACCESS NOTE  - Availability date\", \"context\"=>\"\"}, {\"tag\"=>\"506\", \"code\"=>\"q\", \"name\"=>\"RESTRICTIONS ON ACCESS NOTE  - Supplying agency\", \"context\"=>\"\"}, {\"tag\"=>\"506\", \"code\"=>\"5\", \"name\"=>\"RESTRICTIONS ON ACCESS NOTE  - Institution to which field applies\", \"context\"=>\"\"}, {\"tag\"=>\"520\", \"code\"=>\"u\", \"name\"=>\"SUMMARY, ETC.  - Uniform Resource Identifier\", \"context\"=>\"\"}, {\"tag\"=>\"526\", \"code\"=>\"i\", \"name\"=>\"STUDY PROGRAM INFORMATION NOTE  - Display text\", \"context\"=>\"\"}, {\"tag\"=>\"526\", \"code\"=>\"x\", \"name\"=>\"STUDY PROGRAM INFORMATION NOTE  - Nonpublic note\", \"context\"=>\"\"}, {\"tag\"=>\"526\", \"code\"=>\"5\", \"name\"=>\"STUDY PROGRAM INFORMATION NOTE  - Institution to which field applies\", \"context\"=>\"\"}, {\"tag\"=>\"533\", \"code\"=>\"5\", \"name\"=>\"REPRODUCTION NOTE  - Institution to which field applies\", \"context\"=>\"\"}, {\"tag\"=>\"533\", \"code\"=>\"7\", \"name\"=>\"REPRODUCTION NOTE  - Fixed-length data elements of reproduction\", \"context\"=>\"\"}, {\"tag\"=>\"538\", \"code\"=>\"5\", \"name\"=>\"SYSTEM DETAILS NOTE  - Institution to which field applies\", \"context\"=>\"\"}, {\"tag\"=>\"540\", \"code\"=>\"5\", \"name\"=>\"TERMS GOVERNING USE AND REPRODUCTION NOTE  - Institution to which field applies\", \"context\"=>\"\"}, {\"tag\"=>\"541\", \"code\"=>\"5\", \"name\"=>\"IMMEDIATE SOURCE OF ACQUISITION NOTE  - Institution to which field applies\", \"context\"=>\"\"}, {\"tag\"=>\"556\", \"code\"=>\"z\", \"name\"=>\"INFORMATION ABOUT DOCUMENTATION NOTE  - International Standard Book Number\", \"context\"=>\"\"}, {\"tag\"=>\"561\", \"code\"=>\"u\", \"name\"=>\"OWNERSHIP AND CUSTODIAL HISTORY  - Uniform Resource Identifier\", \"context\"=>\"\"}, {\"tag\"=>\"561\", \"code\"=>\"5\", \"name\"=>\"OWNERSHIP AND CUSTODIAL HISTORY  - Institution to which field applies\", \"context\"=>\"\"}, {\"tag\"=>\"562\", \"code\"=>\"5\", \"name\"=>\"COPY AND VERSION IDENTIFICATION NOTE  - Institution to which field applies\", \"context\"=>\"\"}, {\"tag\"=>\"563\", \"code\"=>\"5\", \"name\"=>\"BINDING INFORMATION  - Institution to which field applies\", \"context\"=>\"\"}, {\"tag\"=>\"585\", \"code\"=>\"5\", \"name\"=>\"EXHIBITIONS NOTE  - Institution to which field applies\", \"context\"=>\"\"}, {\"tag\"=>\"590\", \"code\"=>\"b\", \"name\"=>\"RECEIPT DATE NOTE  - Provenance\", \"context\"=>\"\"}, {\"tag\"=>\"590\", \"code\"=>\"d\", \"name\"=>\"RECEIPT DATE NOTE  - Origin of safety copy\", \"context\"=>\"\"}, {\"tag\"=>\"600\", \"code\"=>\"e\", \"name\"=>\"SUBJECT ADDED ENTRY--PERSONAL NAME  - Relator term\", \"context\"=>\"\"}, {\"tag\"=>\"600\", \"code\"=>\"3\", \"name\"=>\"SUBJECT ADDED ENTRY--PERSONAL NAME  - Materials specified\", \"context\"=>\"\"}, {\"tag\"=>\"600\", \"code\"=>\"4\", \"name\"=>\"SUBJECT ADDED ENTRY--PERSONAL NAME  - Relationship\", \"context\"=>\"\"}, {\"tag\"=>\"610\", \"code\"=>\"e\", \"name\"=>\"SUBJECT ADDED ENTRY--CORPORATE NAME  - Relator term\", \"context\"=>\"\"}, {\"tag\"=>\"610\", \"code\"=>\"3\", \"name\"=>\"SUBJECT ADDED ENTRY--CORPORATE NAME  - Materials specified\", \"context\"=>\"\"}, {\"tag\"=>\"610\", \"code\"=>\"4\", \"name\"=>\"SUBJECT ADDED ENTRY--CORPORATE NAME  - Relationship\", \"context\"=>\"\"}, {\"tag\"=>\"611\", \"code\"=>\"j\", \"name\"=>\"SUBJECT ADDED ENTRY--MEETING NAME  - Relator term\", \"context\"=>\"\"}, {\"tag\"=>\"611\", \"code\"=>\"3\", \"name\"=>\"SUBJECT ADDED ENTRY--MEETING NAME  - Materials specified\", \"context\"=>\"\"}, {\"tag\"=>\"611\", \"code\"=>\"4\", \"name\"=>\"SUBJECT ADDED ENTRY--MEETING NAME  - Relationship\", \"context\"=>\"\"}, {\"tag\"=>\"630\", \"code\"=>\"e\", \"name\"=>\"SUBJECT ADDED ENTRY--UNIFORM TITLE  - Relator term\", \"context\"=>\"\"}, {\"tag\"=>\"630\", \"code\"=>\"3\", \"name\"=>\"SUBJECT ADDED ENTRY--UNIFORM TITLE  - Materials specified\", \"context\"=>\"\"}, {\"tag\"=>\"630\", \"code\"=>\"4\", \"name\"=>\"SUBJECT ADDED ENTRY--UNIFORM TITLE  - Relationship\", \"context\"=>\"\"}, {\"tag\"=>\"647\", \"code\"=>\"3\", \"name\"=>\"SUBJECT ADDED ENTRY--NAMED EVENT  - Materials specified\", \"context\"=>\"\"}, {\"tag\"=>\"648\", \"code\"=>\"3\", \"name\"=>\"SUBJECT ADDED ENTRY--CHRONOLOGICAL TERM  - Materials specified\", \"context\"=>\"\"}, {\"tag\"=>\"650\", \"code\"=>\"e\", \"name\"=>\"SUBJECT ADDED ENTRY--TOPICAL TERM  - Relator term\", \"context\"=>\"\"}, {\"tag\"=>\"650\", \"code\"=>\"3\", \"name\"=>\"SUBJECT ADDED ENTRY--TOPICAL TERM  - Materials specified\", \"context\"=>\"\"}, {\"tag\"=>\"650\", \"code\"=>\"4\", \"name\"=>\"SUBJECT ADDED ENTRY--TOPICAL TERM  - Relationship\", \"context\"=>\"\"}, {\"tag\"=>\"651\", \"code\"=>\"e\", \"name\"=>\"SUBJECT ADDED ENTRY--GEOGRAPHIC NAME  - Relator term\", \"context\"=>\"\"}, {\"tag\"=>\"651\", \"code\"=>\"3\", \"name\"=>\"SUBJECT ADDED ENTRY--GEOGRAPHIC NAME  - Materials specified\", \"context\"=>\"\"}, {\"tag\"=>\"651\", \"code\"=>\"4\", \"name\"=>\"SUBJECT ADDED ENTRY--GEOGRAPHIC NAME  - Relationship\", \"context\"=>\"\"}, {\"tag\"=>\"655\", \"code\"=>\"b\", \"name\"=>\"INDEX TERM--GENRE/FORM  - Non-focus term\", \"context\"=>\"\"}, {\"tag\"=>\"655\", \"code\"=>\"c\", \"name\"=>\"INDEX TERM--GENRE/FORM  - Facet/hierarchy designation\", \"context\"=>\"\"}, {\"tag\"=>\"655\", \"code\"=>\"3\", \"name\"=>\"INDEX TERM--GENRE/FORM  - Materials specified\", \"context\"=>\"\"}, {\"tag\"=>\"655\", \"code\"=>\"5\", \"name\"=>\"INDEX TERM--GENRE/FORM  - Institution to which field applies\", \"context\"=>\"\"}, {\"tag\"=>\"656\", \"code\"=>\"3\", \"name\"=>\"INDEX TERM--OCCUPATION  - Materials specified\", \"context\"=>\"\"}, {\"tag\"=>\"657\", \"code\"=>\"3\", \"name\"=>\"INDEX TERM--FUNCTION  - Materials specified\", \"context\"=>\"\"}, {\"tag\"=>\"662\", \"code\"=>\"e\", \"name\"=>\"SUBJECT ADDED ENTRY--HIERARCHICAL PLACE NAME  - Relator term\", \"context\"=>\"\"}, {\"tag\"=>\"662\", \"code\"=>\"4\", \"name\"=>\"SUBJECT ADDED ENTRY--HIERARCHICAL PLACE NAME  - Relationship\", \"context\"=>\"\"}, {\"tag\"=>\"700\", \"code\"=>\"5\", \"name\"=>\"ADDED ENTRY--PERSONAL NAME  - Institution to which field applies\", \"context\"=>\"\"}, {\"tag\"=>\"710\", \"code\"=>\"5\", \"name\"=>\"ADDED ENTRY--CORPORATE NAME  - Institution to which field applies\", \"context\"=>\"\"}, {\"tag\"=>\"711\", \"code\"=>\"5\", \"name\"=>\"ADDED ENTRY--MEETING NAME  - Institution to which field applies\", \"context\"=>\"\"}, {\"tag\"=>\"730\", \"code\"=>\"4\", \"name\"=>\"ADDED ENTRY--UNIFORM TITLE  - Relationship\", \"context\"=>\"\"}, {\"tag\"=>\"730\", \"code\"=>\"5\", \"name\"=>\"ADDED ENTRY--UNIFORM TITLE  - Institution to which field applies\", \"context\"=>\"\"}, {\"tag\"=>\"740\", \"code\"=>\"5\", \"name\"=>\"ADDED ENTRY--UNCONTROLLED RELATED/ANALYTICAL TITLE  - Institution to which field applies\", \"context\"=>\"\"}, {\"tag\"=>\"752\", \"code\"=>\"e\", \"name\"=>\"ADDED ENTRY--HIERARCHICAL PLACE NAME  - Relator term\", \"context\"=>\"\"}, {\"tag\"=>\"752\", \"code\"=>\"4\", \"name\"=>\"ADDED ENTRY--HIERARCHICAL PLACE NAME  - Relationship\", \"context\"=>\"\"}, {\"tag\"=>\"760\", \"code\"=>\"4\", \"name\"=>\"MAIN SERIES ENTRY  - Relationship\", \"context\"=>\"\"}, {\"tag\"=>\"762\", \"code\"=>\"4\", \"name\"=>\"SUBSERIES ENTRY  - Relationship\", \"context\"=>\"\"}, {\"tag\"=>\"765\", \"code\"=>\"4\", \"name\"=>\"ORIGINAL LANGUAGE ENTRY  - Relationship\", \"context\"=>\"\"}, {\"tag\"=>\"767\", \"code\"=>\"4\", \"name\"=>\"TRANSLATION ENTRY  - Relationship\", \"context\"=>\"\"}, {\"tag\"=>\"770\", \"code\"=>\"4\", \"name\"=>\"SUPPLEMENT/SPECIAL ISSUE ENTRY  - Relationship\", \"context\"=>\"\"}, {\"tag\"=>\"772\", \"code\"=>\"4\", \"name\"=>\"SUPPLEMENT PARENT ENTRY  - Relationship\", \"context\"=>\"\"}, {\"tag\"=>\"773\", \"code\"=>\"q\", \"name\"=>\"HOST ITEM ENTRY  - Enumeration and first page\", \"context\"=>\"\"}, {\"tag\"=>\"773\", \"code\"=>\"4\", \"name\"=>\"HOST ITEM ENTRY  - Relationship\", \"context\"=>\"\"}, {\"tag\"=>\"774\", \"code\"=>\"4\", \"name\"=>\"CONSTITUENT UNIT ENTRY  - Relationship\", \"context\"=>\"\"}, {\"tag\"=>\"775\", \"code\"=>\"f\", \"name\"=>\"OTHER EDITION ENTRY  - Country code\", \"context\"=>\"\"}, {\"tag\"=>\"775\", \"code\"=>\"4\", \"name\"=>\"OTHER EDITION ENTRY  - Relationship\", \"context\"=>\"\"}, {\"tag\"=>\"777\", \"code\"=>\"4\", \"name\"=>\"ISSUED WITH ENTRY  - Relationship\", \"context\"=>\"\"}, {\"tag\"=>\"780\", \"code\"=>\"4\", \"name\"=>\"PRECEDING ENTRY  - Relationship\", \"context\"=>\"\"}, {\"tag\"=>\"785\", \"code\"=>\"4\", \"name\"=>\"SUCCEEDING ENTRY  - Relationship\", \"context\"=>\"\"}, {\"tag\"=>\"786\", \"code\"=>\"j\", \"name\"=>\"DATA SOURCE ENTRY  - Period of content\", \"context\"=>\"\"}, {\"tag\"=>\"786\", \"code\"=>\"4\", \"name\"=>\"DATA SOURCE ENTRY  - Relationship\", \"context\"=>\"\"}, {\"tag\"=>\"787\", \"code\"=>\"4\", \"name\"=>\"OTHER RELATIONSHIP ENTRY  - Relationship\", \"context\"=>\"\"}, {\"tag\"=>\"800\", \"code\"=>\"e\", \"name\"=>\"SERIES ADDED ENTRY--PERSONAL NAME  - Relator term\", \"context\"=>\"\"}, {\"tag\"=>\"800\", \"code\"=>\"v\", \"name\"=>\"SERIES ADDED ENTRY--PERSONAL NAME  - Volume/sequential designation\", \"context\"=>\"\"}, {\"tag\"=>\"800\", \"code\"=>\"w\", \"name\"=>\"SERIES ADDED ENTRY--PERSONAL NAME  - Bibliographic record control number\", \"context\"=>\"\"}, {\"tag\"=>\"800\", \"code\"=>\"4\", \"name\"=>\"SERIES ADDED ENTRY--PERSONAL NAME  - Relationship\", \"context\"=>\"\"}, {\"tag\"=>\"800\", \"code\"=>\"5\", \"name\"=>\"SERIES ADDED ENTRY--PERSONAL NAME  - Institution to which field applies\", \"context\"=>\"\"}, {\"tag\"=>\"810\", \"code\"=>\"e\", \"name\"=>\"SERIES ADDED ENTRY--CORPORATE NAME  - Relator term\", \"context\"=>\"\"}, {\"tag\"=>\"810\", \"code\"=>\"v\", \"name\"=>\"SERIES ADDED ENTRY--CORPORATE NAME  - Volume/sequential designation\", \"context\"=>\"\"}, {\"tag\"=>\"810\", \"code\"=>\"w\", \"name\"=>\"SERIES ADDED ENTRY--CORPORATE NAME  - Bibliographic record control number\", \"context\"=>\"\"}, {\"tag\"=>\"810\", \"code\"=>\"4\", \"name\"=>\"SERIES ADDED ENTRY--CORPORATE NAME  - Relationship\", \"context\"=>\"\"}, {\"tag\"=>\"810\", \"code\"=>\"5\", \"name\"=>\"SERIES ADDED ENTRY--CORPORATE NAME  - Institution to which field applies\", \"context\"=>\"\"}, {\"tag\"=>\"811\", \"code\"=>\"j\", \"name\"=>\"SERIES ADDED ENTRY--MEETING NAME  - Relator term\", \"context\"=>\"\"}, {\"tag\"=>\"811\", \"code\"=>\"q\", \"name\"=>\"SERIES ADDED ENTRY--MEETING NAME  - Name of meeting following jurisdiction name entry element\", \"context\"=>\"\"}, {\"tag\"=>\"811\", \"code\"=>\"v\", \"name\"=>\"SERIES ADDED ENTRY--MEETING NAME  - Volume/sequential designation\", \"context\"=>\"\"}, {\"tag\"=>\"811\", \"code\"=>\"w\", \"name\"=>\"SERIES ADDED ENTRY--MEETING NAME  - Bibliographic record control number\", \"context\"=>\"\"}, {\"tag\"=>\"811\", \"code\"=>\"4\", \"name\"=>\"SERIES ADDED ENTRY--MEETING NAME  - Relationship\", \"context\"=>\"\"}, {\"tag\"=>\"811\", \"code\"=>\"5\", \"name\"=>\"SERIES ADDED ENTRY--MEETING NAME  - Institution to which field applies\", \"context\"=>\"\"}, {\"tag\"=>\"830\", \"code\"=>\"v\", \"name\"=>\"SERIES ADDED ENTRY--UNIFORM TITLE  - Volume/sequential designation\", \"context\"=>\"\"}, {\"tag\"=>\"830\", \"code\"=>\"w\", \"name\"=>\"SERIES ADDED ENTRY--UNIFORM TITLE  - Bibliographic record control number\", \"context\"=>\"\"}, {\"tag\"=>\"830\", \"code\"=>\"5\", \"name\"=>\"SERIES ADDED ENTRY--UNIFORM TITLE  - Institution to which field applies\", \"context\"=>\"\"}, {\"tag\"=>\"856\", \"code\"=>\"a\", \"name\"=>\"ELECTRONIC LOCATION AND ACCESS  - Host name\", \"context\"=>\"\"}, {\"tag\"=>\"856\", \"code\"=>\"b\", \"name\"=>\"ELECTRONIC LOCATION AND ACCESS  - Access number\", \"context\"=>\"\"}, {\"tag\"=>\"856\", \"code\"=>\"c\", \"name\"=>\"ELECTRONIC LOCATION AND ACCESS  - Compression information\", \"context\"=>\"\"}, {\"tag\"=>\"856\", \"code\"=>\"d\", \"name\"=>\"ELECTRONIC LOCATION AND ACCESS  - Path\", \"context\"=>\"\"}, {\"tag\"=>\"856\", \"code\"=>\"f\", \"name\"=>\"ELECTRONIC LOCATION AND ACCESS  - Electronic name\", \"context\"=>\"\"}, {\"tag\"=>\"856\", \"code\"=>\"h\", \"name\"=>\"ELECTRONIC LOCATION AND ACCESS  - Processor of request\", \"context\"=>\"\"}, {\"tag\"=>\"856\", \"code\"=>\"i\", \"name\"=>\"ELECTRONIC LOCATION AND ACCESS  - Instruction\", \"context\"=>\"\"}, {\"tag\"=>\"856\", \"code\"=>\"j\", \"name\"=>\"ELECTRONIC LOCATION AND ACCESS  - Bits per second\", \"context\"=>\"\"}, {\"tag\"=>\"856\", \"code\"=>\"k\", \"name\"=>\"ELECTRONIC LOCATION AND ACCESS  - Password\", \"context\"=>\"\"}, {\"tag\"=>\"856\", \"code\"=>\"l\", \"name\"=>\"ELECTRONIC LOCATION AND ACCESS  - Logon\", \"context\"=>\"\"}, {\"tag\"=>\"856\", \"code\"=>\"m\", \"name\"=>\"ELECTRONIC LOCATION AND ACCESS  - Contact for access assistance\", \"context\"=>\"\"}, {\"tag\"=>\"856\", \"code\"=>\"n\", \"name\"=>\"ELECTRONIC LOCATION AND ACCESS  - Name of location of host\", \"context\"=>\"\"}, {\"tag\"=>\"856\", \"code\"=>\"o\", \"name\"=>\"ELECTRONIC LOCATION AND ACCESS  - Operating system\", \"context\"=>\"\"}, {\"tag\"=>\"856\", \"code\"=>\"p\", \"name\"=>\"ELECTRONIC LOCATION AND ACCESS  - Port\", \"context\"=>\"\"}, {\"tag\"=>\"856\", \"code\"=>\"q\", \"name\"=>\"ELECTRONIC LOCATION AND ACCESS  - Electronic format type\", \"context\"=>\"\"}, {\"tag\"=>\"856\", \"code\"=>\"r\", \"name\"=>\"ELECTRONIC LOCATION AND ACCESS  - Settings\", \"context\"=>\"\"}, {\"tag\"=>\"856\", \"code\"=>\"s\", \"name\"=>\"ELECTRONIC LOCATION AND ACCESS  - File size\", \"context\"=>\"\"}, {\"tag\"=>\"856\", \"code\"=>\"t\", \"name\"=>\"ELECTRONIC LOCATION AND ACCESS  - Terminal emulation\", \"context\"=>\"\"}, {\"tag\"=>\"856\", \"code\"=>\"v\", \"name\"=>\"ELECTRONIC LOCATION AND ACCESS  - Hours access method available\", \"context\"=>\"\"}, {\"tag\"=>\"856\", \"code\"=>\"w\", \"name\"=>\"ELECTRONIC LOCATION AND ACCESS  - Record control number\", \"context\"=>\"\"}, {\"tag\"=>\"856\", \"code\"=>\"x\", \"name\"=>\"ELECTRONIC LOCATION AND ACCESS  - Nonpublic note\", \"context\"=>\"\"}, {\"tag\"=>\"856\", \"code\"=>\"z\", \"name\"=>\"ELECTRONIC LOCATION AND ACCESS  - Public note\", \"context\"=>\"\"}, {\"tag\"=>\"856\", \"code\"=>\"2\", \"name\"=>\"ELECTRONIC LOCATION AND ACCESS  - Access method\", \"context\"=>\"\"}]"
      ]
     },
     "execution_count": 15,
     "metadata": {},
     "output_type": "execute_result"
    }
   ],
   "source": [
    "table4 = { 'MARC tag' => [],\n",
    "  'subfield code' => [],\n",
    "  'name' => []\n",
    "  }\n",
    "\n",
    "subfields.each do |sf|\n",
    "  table4['MARC tag'] << sf['tag']\n",
    "  table4['subfield code'] << sf['code']\n",
    "  table4['name'] << sf['name']\n",
    "end"
   ]
  },
  {
   "cell_type": "markdown",
   "metadata": {},
   "source": [
    "### Unmapped subfields to decide on/document:<a class=\"anchor\" id=\"unmapped-subfields-to-decide\"></a>"
   ]
  },
  {
   "cell_type": "code",
   "execution_count": 16,
   "metadata": {},
   "outputs": [
    {
     "data": {
      "text/html": [
       "<table><tr><th>MARC tag</th><th>subfield code</th><th>name</th></tr><tr><td>015</td><td>z</td><td>NATIONAL BIBLIOGRAPHY NUMBER  - Canceled/Invalid national bibliography number</td></tr><tr><td>020</td><td>c</td><td>INTERNATIONAL STANDARD BOOK NUMBER  - Terms of availability</td></tr><tr><td>022</td><td>m</td><td>INTERNATIONAL STANDARD SERIAL NUMBER  - Canceled ISSN-L</td></tr><tr><td>022</td><td>y</td><td>INTERNATIONAL STANDARD SERIAL NUMBER  - Incorrect ISSN</td></tr><tr><td>022</td><td>z</td><td>INTERNATIONAL STANDARD SERIAL NUMBER  - Canceled ISSN</td></tr><tr><td>024</td><td>c</td><td>OTHER STANDARD IDENTIFIER  - Terms of availability</td></tr><tr><td>028</td><td>a</td><td>PUBLISHER NUMBER OR DISTRIBUTOR NUMBER  - Publisher or distributor number</td></tr><tr><td>035</td><td>z</td><td>SYSTEM CONTROL NUMBER  - Canceled/invalid control number</td></tr><tr><td>041</td><td>b</td><td>LANGUAGE CODE  - Language code of summary or abstract</td></tr><tr><td>041</td><td>f</td><td>LANGUAGE CODE  - Language code of table of contents</td></tr><tr><td>041</td><td>h</td><td>LANGUAGE CODE  - Language code of original</td></tr><tr><td>041</td><td>j</td><td>LANGUAGE CODE  - Language code of subtitles</td></tr><tr><td>041</td><td>k</td><td>LANGUAGE CODE  - Language code of intermediate translations</td></tr><tr><td>041</td><td>m</td><td>LANGUAGE CODE  - Language code of original accompanying materials other than librettos</td></tr><tr><td>041</td><td>n</td><td>LANGUAGE CODE  - Language code of original libretto</td></tr><tr><td>041</td><td>p</td><td>LANGUAGE CODE  - Language code of captions</td></tr><tr><td>041</td><td>q</td><td>LANGUAGE CODE  - Language code of accessible audio</td></tr><tr><td>041</td><td>r</td><td>LANGUAGE CODE  - Language code of accessible visual language</td></tr><tr><td>044</td><td>b</td><td>COUNTRY OF PUBLISHING/PRODUCING ENTITY CODE  - Local subentity code</td></tr><tr><td>044</td><td>c</td><td>COUNTRY OF PUBLISHING/PRODUCING ENTITY CODE  - ISO country code</td></tr><tr><td>210</td><td>b</td><td>ABBREVIATED TITLE  - Qualifying information</td></tr><tr><td>245</td><td>h</td><td>TITLE STATEMENT  - Medium</td></tr><tr><td>246</td><td>5</td><td>VARYING FORM OF TITLE  - Institution to which field applies</td></tr><tr><td>340</td><td>3</td><td>PHYSICAL MEDIUM  - Materials specified</td></tr><tr><td>344</td><td>3</td><td>SOUND CHARACTERISTICS  - Materials specified</td></tr><tr><td>345</td><td>3</td><td>PROJECTION CHARACTERISTICS OF MOVING IMAGE  - Materials specified</td></tr><tr><td>346</td><td>3</td><td>VIDEO CHARACTERISTICS  - Materials specified</td></tr><tr><td>347</td><td>3</td><td>DIGITAL FILE CHARACTERISTICS  - Materials specified</td></tr><tr><td>382</td><td>e</td><td>MEDIUM OF PERFORMANCE  - Number of ensembles of the same type</td></tr><tr><td>382</td><td>n</td><td>MEDIUM OF PERFORMANCE  - Number of performers of the same medium</td></tr><tr><td>382</td><td>r</td><td>MEDIUM OF PERFORMANCE  - Total number of individuals performing alongside ensembles</td></tr><tr><td>382</td><td>s</td><td>MEDIUM OF PERFORMANCE  - Total number of performers</td></tr><tr><td>382</td><td>t</td><td>MEDIUM OF PERFORMANCE  - Total number of ensembles</td></tr><tr><td>382</td><td>v</td><td>MEDIUM OF PERFORMANCE  - Note</td></tr><tr><td>382</td><td>3</td><td>MEDIUM OF PERFORMANCE  - Materials specified</td></tr><tr><td>384</td><td>3</td><td>KEY  - Materials specified</td></tr><tr><td>500</td><td>5</td><td>GENERAL NOTE  - Institution to which field applies</td></tr><tr><td>501</td><td>5</td><td>WITH NOTE  - Institution to which field applies</td></tr><tr><td>502</td><td>o</td><td>DISSERTATION NOTE  - Dissertation identifier</td></tr><tr><td>505</td><td>u</td><td>FORMATTED CONTENTS NOTE  - Uniform Resource Identifier</td></tr><tr><td>506</td><td>g</td><td>RESTRICTIONS ON ACCESS NOTE  - Availability date</td></tr><tr><td>506</td><td>q</td><td>RESTRICTIONS ON ACCESS NOTE  - Supplying agency</td></tr><tr><td>506</td><td>5</td><td>RESTRICTIONS ON ACCESS NOTE  - Institution to which field applies</td></tr><tr><td>520</td><td>u</td><td>SUMMARY, ETC.  - Uniform Resource Identifier</td></tr><tr><td>526</td><td>i</td><td>STUDY PROGRAM INFORMATION NOTE  - Display text</td></tr><tr><td>526</td><td>x</td><td>STUDY PROGRAM INFORMATION NOTE  - Nonpublic note</td></tr><tr><td>526</td><td>5</td><td>STUDY PROGRAM INFORMATION NOTE  - Institution to which field applies</td></tr><tr><td>533</td><td>5</td><td>REPRODUCTION NOTE  - Institution to which field applies</td></tr><tr><td>533</td><td>7</td><td>REPRODUCTION NOTE  - Fixed-length data elements of reproduction</td></tr><tr><td>538</td><td>5</td><td>SYSTEM DETAILS NOTE  - Institution to which field applies</td></tr><tr><td>540</td><td>5</td><td>TERMS GOVERNING USE AND REPRODUCTION NOTE  - Institution to which field applies</td></tr><tr><td>541</td><td>5</td><td>IMMEDIATE SOURCE OF ACQUISITION NOTE  - Institution to which field applies</td></tr><tr><td>556</td><td>z</td><td>INFORMATION ABOUT DOCUMENTATION NOTE  - International Standard Book Number</td></tr><tr><td>561</td><td>u</td><td>OWNERSHIP AND CUSTODIAL HISTORY  - Uniform Resource Identifier</td></tr><tr><td>561</td><td>5</td><td>OWNERSHIP AND CUSTODIAL HISTORY  - Institution to which field applies</td></tr><tr><td>562</td><td>5</td><td>COPY AND VERSION IDENTIFICATION NOTE  - Institution to which field applies</td></tr><tr><td>563</td><td>5</td><td>BINDING INFORMATION  - Institution to which field applies</td></tr><tr><td>585</td><td>5</td><td>EXHIBITIONS NOTE  - Institution to which field applies</td></tr><tr><td>590</td><td>b</td><td>RECEIPT DATE NOTE  - Provenance</td></tr><tr><td>590</td><td>d</td><td>RECEIPT DATE NOTE  - Origin of safety copy</td></tr><tr><td>600</td><td>e</td><td>SUBJECT ADDED ENTRY--PERSONAL NAME  - Relator term</td></tr><tr><td>600</td><td>3</td><td>SUBJECT ADDED ENTRY--PERSONAL NAME  - Materials specified</td></tr><tr><td>600</td><td>4</td><td>SUBJECT ADDED ENTRY--PERSONAL NAME  - Relationship</td></tr><tr><td>610</td><td>e</td><td>SUBJECT ADDED ENTRY--CORPORATE NAME  - Relator term</td></tr><tr><td>610</td><td>3</td><td>SUBJECT ADDED ENTRY--CORPORATE NAME  - Materials specified</td></tr><tr><td>610</td><td>4</td><td>SUBJECT ADDED ENTRY--CORPORATE NAME  - Relationship</td></tr><tr><td>611</td><td>j</td><td>SUBJECT ADDED ENTRY--MEETING NAME  - Relator term</td></tr><tr><td>611</td><td>3</td><td>SUBJECT ADDED ENTRY--MEETING NAME  - Materials specified</td></tr><tr><td>611</td><td>4</td><td>SUBJECT ADDED ENTRY--MEETING NAME  - Relationship</td></tr><tr><td>630</td><td>e</td><td>SUBJECT ADDED ENTRY--UNIFORM TITLE  - Relator term</td></tr><tr><td>630</td><td>3</td><td>SUBJECT ADDED ENTRY--UNIFORM TITLE  - Materials specified</td></tr><tr><td>630</td><td>4</td><td>SUBJECT ADDED ENTRY--UNIFORM TITLE  - Relationship</td></tr><tr><td>647</td><td>3</td><td>SUBJECT ADDED ENTRY--NAMED EVENT  - Materials specified</td></tr><tr><td>648</td><td>3</td><td>SUBJECT ADDED ENTRY--CHRONOLOGICAL TERM  - Materials specified</td></tr><tr><td>650</td><td>e</td><td>SUBJECT ADDED ENTRY--TOPICAL TERM  - Relator term</td></tr><tr><td>650</td><td>3</td><td>SUBJECT ADDED ENTRY--TOPICAL TERM  - Materials specified</td></tr><tr><td>650</td><td>4</td><td>SUBJECT ADDED ENTRY--TOPICAL TERM  - Relationship</td></tr><tr><td>651</td><td>e</td><td>SUBJECT ADDED ENTRY--GEOGRAPHIC NAME  - Relator term</td></tr><tr><td>651</td><td>3</td><td>SUBJECT ADDED ENTRY--GEOGRAPHIC NAME  - Materials specified</td></tr><tr><td>651</td><td>4</td><td>SUBJECT ADDED ENTRY--GEOGRAPHIC NAME  - Relationship</td></tr><tr><td>655</td><td>b</td><td>INDEX TERM--GENRE/FORM  - Non-focus term</td></tr><tr><td>655</td><td>c</td><td>INDEX TERM--GENRE/FORM  - Facet/hierarchy designation</td></tr><tr><td>655</td><td>3</td><td>INDEX TERM--GENRE/FORM  - Materials specified</td></tr><tr><td>655</td><td>5</td><td>INDEX TERM--GENRE/FORM  - Institution to which field applies</td></tr><tr><td>656</td><td>3</td><td>INDEX TERM--OCCUPATION  - Materials specified</td></tr><tr><td>657</td><td>3</td><td>INDEX TERM--FUNCTION  - Materials specified</td></tr><tr><td>662</td><td>e</td><td>SUBJECT ADDED ENTRY--HIERARCHICAL PLACE NAME  - Relator term</td></tr><tr><td>662</td><td>4</td><td>SUBJECT ADDED ENTRY--HIERARCHICAL PLACE NAME  - Relationship</td></tr><tr><td>700</td><td>5</td><td>ADDED ENTRY--PERSONAL NAME  - Institution to which field applies</td></tr><tr><td>710</td><td>5</td><td>ADDED ENTRY--CORPORATE NAME  - Institution to which field applies</td></tr><tr><td>711</td><td>5</td><td>ADDED ENTRY--MEETING NAME  - Institution to which field applies</td></tr><tr><td>730</td><td>4</td><td>ADDED ENTRY--UNIFORM TITLE  - Relationship</td></tr><tr><td>730</td><td>5</td><td>ADDED ENTRY--UNIFORM TITLE  - Institution to which field applies</td></tr><tr><td>740</td><td>5</td><td>ADDED ENTRY--UNCONTROLLED RELATED/ANALYTICAL TITLE  - Institution to which field applies</td></tr><tr><td>752</td><td>e</td><td>ADDED ENTRY--HIERARCHICAL PLACE NAME  - Relator term</td></tr><tr><td>752</td><td>4</td><td>ADDED ENTRY--HIERARCHICAL PLACE NAME  - Relationship</td></tr><tr><td>760</td><td>4</td><td>MAIN SERIES ENTRY  - Relationship</td></tr><tr><td>762</td><td>4</td><td>SUBSERIES ENTRY  - Relationship</td></tr><tr><td>765</td><td>4</td><td>ORIGINAL LANGUAGE ENTRY  - Relationship</td></tr><tr><td>767</td><td>4</td><td>TRANSLATION ENTRY  - Relationship</td></tr><tr><td>770</td><td>4</td><td>SUPPLEMENT/SPECIAL ISSUE ENTRY  - Relationship</td></tr><tr><td>772</td><td>4</td><td>SUPPLEMENT PARENT ENTRY  - Relationship</td></tr><tr><td>773</td><td>q</td><td>HOST ITEM ENTRY  - Enumeration and first page</td></tr><tr><td>773</td><td>4</td><td>HOST ITEM ENTRY  - Relationship</td></tr><tr><td>774</td><td>4</td><td>CONSTITUENT UNIT ENTRY  - Relationship</td></tr><tr><td>775</td><td>f</td><td>OTHER EDITION ENTRY  - Country code</td></tr><tr><td>775</td><td>4</td><td>OTHER EDITION ENTRY  - Relationship</td></tr><tr><td>777</td><td>4</td><td>ISSUED WITH ENTRY  - Relationship</td></tr><tr><td>780</td><td>4</td><td>PRECEDING ENTRY  - Relationship</td></tr><tr><td>785</td><td>4</td><td>SUCCEEDING ENTRY  - Relationship</td></tr><tr><td>786</td><td>j</td><td>DATA SOURCE ENTRY  - Period of content</td></tr><tr><td>786</td><td>4</td><td>DATA SOURCE ENTRY  - Relationship</td></tr><tr><td>787</td><td>4</td><td>OTHER RELATIONSHIP ENTRY  - Relationship</td></tr><tr><td>800</td><td>e</td><td>SERIES ADDED ENTRY--PERSONAL NAME  - Relator term</td></tr><tr><td>800</td><td>v</td><td>SERIES ADDED ENTRY--PERSONAL NAME  - Volume/sequential designation</td></tr><tr><td>800</td><td>w</td><td>SERIES ADDED ENTRY--PERSONAL NAME  - Bibliographic record control number</td></tr><tr><td>800</td><td>4</td><td>SERIES ADDED ENTRY--PERSONAL NAME  - Relationship</td></tr><tr><td>800</td><td>5</td><td>SERIES ADDED ENTRY--PERSONAL NAME  - Institution to which field applies</td></tr><tr><td>810</td><td>e</td><td>SERIES ADDED ENTRY--CORPORATE NAME  - Relator term</td></tr><tr><td>810</td><td>v</td><td>SERIES ADDED ENTRY--CORPORATE NAME  - Volume/sequential designation</td></tr><tr><td>810</td><td>w</td><td>SERIES ADDED ENTRY--CORPORATE NAME  - Bibliographic record control number</td></tr><tr><td>810</td><td>4</td><td>SERIES ADDED ENTRY--CORPORATE NAME  - Relationship</td></tr><tr><td>810</td><td>5</td><td>SERIES ADDED ENTRY--CORPORATE NAME  - Institution to which field applies</td></tr><tr><td>811</td><td>j</td><td>SERIES ADDED ENTRY--MEETING NAME  - Relator term</td></tr><tr><td>811</td><td>q</td><td>SERIES ADDED ENTRY--MEETING NAME  - Name of meeting following jurisdiction name entry element</td></tr><tr><td>811</td><td>v</td><td>SERIES ADDED ENTRY--MEETING NAME  - Volume/sequential designation</td></tr><tr><td>811</td><td>w</td><td>SERIES ADDED ENTRY--MEETING NAME  - Bibliographic record control number</td></tr><tr><td>811</td><td>4</td><td>SERIES ADDED ENTRY--MEETING NAME  - Relationship</td></tr><tr><td>811</td><td>5</td><td>SERIES ADDED ENTRY--MEETING NAME  - Institution to which field applies</td></tr><tr><td>830</td><td>v</td><td>SERIES ADDED ENTRY--UNIFORM TITLE  - Volume/sequential designation</td></tr><tr><td>830</td><td>w</td><td>SERIES ADDED ENTRY--UNIFORM TITLE  - Bibliographic record control number</td></tr><tr><td>830</td><td>5</td><td>SERIES ADDED ENTRY--UNIFORM TITLE  - Institution to which field applies</td></tr><tr><td>856</td><td>a</td><td>ELECTRONIC LOCATION AND ACCESS  - Host name</td></tr><tr><td>856</td><td>b</td><td>ELECTRONIC LOCATION AND ACCESS  - Access number</td></tr><tr><td>856</td><td>c</td><td>ELECTRONIC LOCATION AND ACCESS  - Compression information</td></tr><tr><td>856</td><td>d</td><td>ELECTRONIC LOCATION AND ACCESS  - Path</td></tr><tr><td>856</td><td>f</td><td>ELECTRONIC LOCATION AND ACCESS  - Electronic name</td></tr><tr><td>856</td><td>h</td><td>ELECTRONIC LOCATION AND ACCESS  - Processor of request</td></tr><tr><td>856</td><td>i</td><td>ELECTRONIC LOCATION AND ACCESS  - Instruction</td></tr><tr><td>856</td><td>j</td><td>ELECTRONIC LOCATION AND ACCESS  - Bits per second</td></tr><tr><td>856</td><td>k</td><td>ELECTRONIC LOCATION AND ACCESS  - Password</td></tr><tr><td>856</td><td>l</td><td>ELECTRONIC LOCATION AND ACCESS  - Logon</td></tr><tr><td>856</td><td>m</td><td>ELECTRONIC LOCATION AND ACCESS  - Contact for access assistance</td></tr><tr><td>856</td><td>n</td><td>ELECTRONIC LOCATION AND ACCESS  - Name of location of host</td></tr><tr><td>856</td><td>o</td><td>ELECTRONIC LOCATION AND ACCESS  - Operating system</td></tr><tr><td>856</td><td>p</td><td>ELECTRONIC LOCATION AND ACCESS  - Port</td></tr><tr><td>856</td><td>q</td><td>ELECTRONIC LOCATION AND ACCESS  - Electronic format type</td></tr><tr><td>856</td><td>r</td><td>ELECTRONIC LOCATION AND ACCESS  - Settings</td></tr><tr><td>856</td><td>s</td><td>ELECTRONIC LOCATION AND ACCESS  - File size</td></tr><tr><td>856</td><td>t</td><td>ELECTRONIC LOCATION AND ACCESS  - Terminal emulation</td></tr><tr><td>856</td><td>v</td><td>ELECTRONIC LOCATION AND ACCESS  - Hours access method available</td></tr><tr><td>856</td><td>w</td><td>ELECTRONIC LOCATION AND ACCESS  - Record control number</td></tr><tr><td>856</td><td>x</td><td>ELECTRONIC LOCATION AND ACCESS  - Nonpublic note</td></tr><tr><td>856</td><td>z</td><td>ELECTRONIC LOCATION AND ACCESS  - Public note</td></tr><tr><td>856</td><td>2</td><td>ELECTRONIC LOCATION AND ACCESS  - Access method</td></tr></table>"
      ],
      "text/plain": [
       "\"<table><tr><th>MARC tag</th><th>subfield code</th><th>name</th></tr><tr><td>015</td><td>z</td><td>NATIONAL BIBLIOGRAPHY NUMBER  - Canceled/Invalid national bibliography number</td></tr><tr><td>020</td><td>c</td><td>INTERNATIONAL STANDARD BOOK NUMBER  - Terms of availability</td></tr><tr><td>022</td><td>m</td><td>INTERNATIONAL STANDARD SERIAL NUMBER  - Canceled ISSN-L</td></tr><tr><td>022</td><td>y</td><td>INTERNATIONAL STANDARD SERIAL NUMBER  - Incorrect ISSN</td></tr><tr><td>022</td><td>z</td><td>INTERNATIONAL STANDARD SERIAL NUMBER  - Canceled ISSN</td></tr><tr><td>024</td><td>c</td><td>OTHER STANDARD IDENTIFIER  - Terms of availability</td></tr><tr><td>028</td><td>a</td><td>PUBLISHER NUMBER OR DISTRIBUTOR NUMBER  - Publisher or distributor number</td></tr><tr><td>035</td><td>z</td><td>SYSTEM CONTROL NUMBER  - Canceled/invalid control number</td></tr><tr><td>041</td><td>b</td><td>LANGUAGE CODE  - Language code of summary or abstract</td></tr><tr><td>041</td><td>f</td><td>LANGUAGE CODE  - Language code of table of contents</td></tr><tr><td>041</td><td>h</td><td>LANGUAGE CODE  - Language code of original</td></tr><tr><td>041</td><td>j</td><td>LANGUAGE CODE  - Language code of subtitles</td></tr><tr><td>041</td><td>k</td><td>LANGUAGE CODE  - Language code of intermediate translations</td></tr><tr><td>041</td><td>m</td><td>LANGUAGE CODE  - Language code of original accompanying materials other than librettos</td></tr><tr><td>041</td><td>n</td><td>LANGUAGE CODE  - Language code of original libretto</td></tr><tr><td>041</td><td>p</td><td>LANGUAGE CODE  - Language code of captions</td></tr><tr><td>041</td><td>q</td><td>LANGUAGE CODE  - Language code of accessible audio</td></tr><tr><td>041</td><td>r</td><td>LANGUAGE CODE  - Language code of accessible visual language</td></tr><tr><td>044</td><td>b</td><td>COUNTRY OF PUBLISHING/PRODUCING ENTITY CODE  - Local subentity code</td></tr><tr><td>044</td><td>c</td><td>COUNTRY OF PUBLISHING/PRODUCING ENTITY CODE  - ISO country code</td></tr><tr><td>210</td><td>b</td><td>ABBREVIATED TITLE  - Qualifying information</td></tr><tr><td>245</td><td>h</td><td>TITLE STATEMENT  - Medium</td></tr><tr><td>246</td><td>5</td><td>VARYING FORM OF TITLE  - Institution to which field applies</td></tr><tr><td>340</td><td>3</td><td>PHYSICAL MEDIUM  - Materials specified</td></tr><tr><td>344</td><td>3</td><td>SOUND CHARACTERISTICS  - Materials specified</td></tr><tr><td>345</td><td>3</td><td>PROJECTION CHARACTERISTICS OF MOVING IMAGE  - Materials specified</td></tr><tr><td>346</td><td>3</td><td>VIDEO CHARACTERISTICS  - Materials specified</td></tr><tr><td>347</td><td>3</td><td>DIGITAL FILE CHARACTERISTICS  - Materials specified</td></tr><tr><td>382</td><td>e</td><td>MEDIUM OF PERFORMANCE  - Number of ensembles of the same type</td></tr><tr><td>382</td><td>n</td><td>MEDIUM OF PERFORMANCE  - Number of performers of the same medium</td></tr><tr><td>382</td><td>r</td><td>MEDIUM OF PERFORMANCE  - Total number of individuals performing alongside ensembles</td></tr><tr><td>382</td><td>s</td><td>MEDIUM OF PERFORMANCE  - Total number of performers</td></tr><tr><td>382</td><td>t</td><td>MEDIUM OF PERFORMANCE  - Total number of ensembles</td></tr><tr><td>382</td><td>v</td><td>MEDIUM OF PERFORMANCE  - Note</td></tr><tr><td>382</td><td>3</td><td>MEDIUM OF PERFORMANCE  - Materials specified</td></tr><tr><td>384</td><td>3</td><td>KEY  - Materials specified</td></tr><tr><td>500</td><td>5</td><td>GENERAL NOTE  - Institution to which field applies</td></tr><tr><td>501</td><td>5</td><td>WITH NOTE  - Institution to which field applies</td></tr><tr><td>502</td><td>o</td><td>DISSERTATION NOTE  - Dissertation identifier</td></tr><tr><td>505</td><td>u</td><td>FORMATTED CONTENTS NOTE  - Uniform Resource Identifier</td></tr><tr><td>506</td><td>g</td><td>RESTRICTIONS ON ACCESS NOTE  - Availability date</td></tr><tr><td>506</td><td>q</td><td>RESTRICTIONS ON ACCESS NOTE  - Supplying agency</td></tr><tr><td>506</td><td>5</td><td>RESTRICTIONS ON ACCESS NOTE  - Institution to which field applies</td></tr><tr><td>520</td><td>u</td><td>SUMMARY, ETC.  - Uniform Resource Identifier</td></tr><tr><td>526</td><td>i</td><td>STUDY PROGRAM INFORMATION NOTE  - Display text</td></tr><tr><td>526</td><td>x</td><td>STUDY PROGRAM INFORMATION NOTE  - Nonpublic note</td></tr><tr><td>526</td><td>5</td><td>STUDY PROGRAM INFORMATION NOTE  - Institution to which field applies</td></tr><tr><td>533</td><td>5</td><td>REPRODUCTION NOTE  - Institution to which field applies</td></tr><tr><td>533</td><td>7</td><td>REPRODUCTION NOTE  - Fixed-length data elements of reproduction</td></tr><tr><td>538</td><td>5</td><td>SYSTEM DETAILS NOTE  - Institution to which field applies</td></tr><tr><td>540</td><td>5</td><td>TERMS GOVERNING USE AND REPRODUCTION NOTE  - Institution to which field applies</td></tr><tr><td>541</td><td>5</td><td>IMMEDIATE SOURCE OF ACQUISITION NOTE  - Institution to which field applies</td></tr><tr><td>556</td><td>z</td><td>INFORMATION ABOUT DOCUMENTATION NOTE  - International Standard Book Number</td></tr><tr><td>561</td><td>u</td><td>OWNERSHIP AND CUSTODIAL HISTORY  - Uniform Resource Identifier</td></tr><tr><td>561</td><td>5</td><td>OWNERSHIP AND CUSTODIAL HISTORY  - Institution to which field applies</td></tr><tr><td>562</td><td>5</td><td>COPY AND VERSION IDENTIFICATION NOTE  - Institution to which field applies</td></tr><tr><td>563</td><td>5</td><td>BINDING INFORMATION  - Institution to which field applies</td></tr><tr><td>585</td><td>5</td><td>EXHIBITIONS NOTE  - Institution to which field applies</td></tr><tr><td>590</td><td>b</td><td>RECEIPT DATE NOTE  - Provenance</td></tr><tr><td>590</td><td>d</td><td>RECEIPT DATE NOTE  - Origin of safety copy</td></tr><tr><td>600</td><td>e</td><td>SUBJECT ADDED ENTRY--PERSONAL NAME  - Relator term</td></tr><tr><td>600</td><td>3</td><td>SUBJECT ADDED ENTRY--PERSONAL NAME  - Materials specified</td></tr><tr><td>600</td><td>4</td><td>SUBJECT ADDED ENTRY--PERSONAL NAME  - Relationship</td></tr><tr><td>610</td><td>e</td><td>SUBJECT ADDED ENTRY--CORPORATE NAME  - Relator term</td></tr><tr><td>610</td><td>3</td><td>SUBJECT ADDED ENTRY--CORPORATE NAME  - Materials specified</td></tr><tr><td>610</td><td>4</td><td>SUBJECT ADDED ENTRY--CORPORATE NAME  - Relationship</td></tr><tr><td>611</td><td>j</td><td>SUBJECT ADDED ENTRY--MEETING NAME  - Relator term</td></tr><tr><td>611</td><td>3</td><td>SUBJECT ADDED ENTRY--MEETING NAME  - Materials specified</td></tr><tr><td>611</td><td>4</td><td>SUBJECT ADDED ENTRY--MEETING NAME  - Relationship</td></tr><tr><td>630</td><td>e</td><td>SUBJECT ADDED ENTRY--UNIFORM TITLE  - Relator term</td></tr><tr><td>630</td><td>3</td><td>SUBJECT ADDED ENTRY--UNIFORM TITLE  - Materials specified</td></tr><tr><td>630</td><td>4</td><td>SUBJECT ADDED ENTRY--UNIFORM TITLE  - Relationship</td></tr><tr><td>647</td><td>3</td><td>SUBJECT ADDED ENTRY--NAMED EVENT  - Materials specified</td></tr><tr><td>648</td><td>3</td><td>SUBJECT ADDED ENTRY--CHRONOLOGICAL TERM  - Materials specified</td></tr><tr><td>650</td><td>e</td><td>SUBJECT ADDED ENTRY--TOPICAL TERM  - Relator term</td></tr><tr><td>650</td><td>3</td><td>SUBJECT ADDED ENTRY--TOPICAL TERM  - Materials specified</td></tr><tr><td>650</td><td>4</td><td>SUBJECT ADDED ENTRY--TOPICAL TERM  - Relationship</td></tr><tr><td>651</td><td>e</td><td>SUBJECT ADDED ENTRY--GEOGRAPHIC NAME  - Relator term</td></tr><tr><td>651</td><td>3</td><td>SUBJECT ADDED ENTRY--GEOGRAPHIC NAME  - Materials specified</td></tr><tr><td>651</td><td>4</td><td>SUBJECT ADDED ENTRY--GEOGRAPHIC NAME  - Relationship</td></tr><tr><td>655</td><td>b</td><td>INDEX TERM--GENRE/FORM  - Non-focus term</td></tr><tr><td>655</td><td>c</td><td>INDEX TERM--GENRE/FORM  - Facet/hierarchy designation</td></tr><tr><td>655</td><td>3</td><td>INDEX TERM--GENRE/FORM  - Materials specified</td></tr><tr><td>655</td><td>5</td><td>INDEX TERM--GENRE/FORM  - Institution to which field applies</td></tr><tr><td>656</td><td>3</td><td>INDEX TERM--OCCUPATION  - Materials specified</td></tr><tr><td>657</td><td>3</td><td>INDEX TERM--FUNCTION  - Materials specified</td></tr><tr><td>662</td><td>e</td><td>SUBJECT ADDED ENTRY--HIERARCHICAL PLACE NAME  - Relator term</td></tr><tr><td>662</td><td>4</td><td>SUBJECT ADDED ENTRY--HIERARCHICAL PLACE NAME  - Relationship</td></tr><tr><td>700</td><td>5</td><td>ADDED ENTRY--PERSONAL NAME  - Institution to which field applies</td></tr><tr><td>710</td><td>5</td><td>ADDED ENTRY--CORPORATE NAME  - Institution to which field applies</td></tr><tr><td>711</td><td>5</td><td>ADDED ENTRY--MEETING NAME  - Institution to which field applies</td></tr><tr><td>730</td><td>4</td><td>ADDED ENTRY--UNIFORM TITLE  - Relationship</td></tr><tr><td>730</td><td>5</td><td>ADDED ENTRY--UNIFORM TITLE  - Institution to which field applies</td></tr><tr><td>740</td><td>5</td><td>ADDED ENTRY--UNCONTROLLED RELATED/ANALYTICAL TITLE  - Institution to which field applies</td></tr><tr><td>752</td><td>e</td><td>ADDED ENTRY--HIERARCHICAL PLACE NAME  - Relator term</td></tr><tr><td>752</td><td>4</td><td>ADDED ENTRY--HIERARCHICAL PLACE NAME  - Relationship</td></tr><tr><td>760</td><td>4</td><td>MAIN SERIES ENTRY  - Relationship</td></tr><tr><td>762</td><td>4</td><td>SUBSERIES ENTRY  - Relationship</td></tr><tr><td>765</td><td>4</td><td>ORIGINAL LANGUAGE ENTRY  - Relationship</td></tr><tr><td>767</td><td>4</td><td>TRANSLATION ENTRY  - Relationship</td></tr><tr><td>770</td><td>4</td><td>SUPPLEMENT/SPECIAL ISSUE ENTRY  - Relationship</td></tr><tr><td>772</td><td>4</td><td>SUPPLEMENT PARENT ENTRY  - Relationship</td></tr><tr><td>773</td><td>q</td><td>HOST ITEM ENTRY  - Enumeration and first page</td></tr><tr><td>773</td><td>4</td><td>HOST ITEM ENTRY  - Relationship</td></tr><tr><td>774</td><td>4</td><td>CONSTITUENT UNIT ENTRY  - Relationship</td></tr><tr><td>775</td><td>f</td><td>OTHER EDITION ENTRY  - Country code</td></tr><tr><td>775</td><td>4</td><td>OTHER EDITION ENTRY  - Relationship</td></tr><tr><td>777</td><td>4</td><td>ISSUED WITH ENTRY  - Relationship</td></tr><tr><td>780</td><td>4</td><td>PRECEDING ENTRY  - Relationship</td></tr><tr><td>785</td><td>4</td><td>SUCCEEDING ENTRY  - Relationship</td></tr><tr><td>786</td><td>j</td><td>DATA SOURCE ENTRY  - Period of content</td></tr><tr><td>786</td><td>4</td><td>DATA SOURCE ENTRY  - Relationship</td></tr><tr><td>787</td><td>4</td><td>OTHER RELATIONSHIP ENTRY  - Relationship</td></tr><tr><td>800</td><td>e</td><td>SERIES ADDED ENTRY--PERSONAL NAME  - Relator term</td></tr><tr><td>800</td><td>v</td><td>SERIES ADDED ENTRY--PERSONAL NAME  - Volume/sequential designation</td></tr><tr><td>800</td><td>w</td><td>SERIES ADDED ENTRY--PERSONAL NAME  - Bibliographic record control number</td></tr><tr><td>800</td><td>4</td><td>SERIES ADDED ENTRY--PERSONAL NAME  - Relationship</td></tr><tr><td>800</td><td>5</td><td>SERIES ADDED ENTRY--PERSONAL NAME  - Institution to which field applies</td></tr><tr><td>810</td><td>e</td><td>SERIES ADDED ENTRY--CORPORATE NAME  - Relator term</td></tr><tr><td>810</td><td>v</td><td>SERIES ADDED ENTRY--CORPORATE NAME  - Volume/sequential designation</td></tr><tr><td>810</td><td>w</td><td>SERIES ADDED ENTRY--CORPORATE NAME  - Bibliographic record control number</td></tr><tr><td>810</td><td>4</td><td>SERIES ADDED ENTRY--CORPORATE NAME  - Relationship</td></tr><tr><td>810</td><td>5</td><td>SERIES ADDED ENTRY--CORPORATE NAME  - Institution to which field applies</td></tr><tr><td>811</td><td>j</td><td>SERIES ADDED ENTRY--MEETING NAME  - Relator term</td></tr><tr><td>811</td><td>q</td><td>SERIES ADDED ENTRY--MEETING NAME  - Name of meeting following jurisdiction name entry element</td></tr><tr><td>811</td><td>v</td><td>SERIES ADDED ENTRY--MEETING NAME  - Volume/sequential designation</td></tr><tr><td>811</td><td>w</td><td>SERIES ADDED ENTRY--MEETING NAME  - Bibliographic record control number</td></tr><tr><td>811</td><td>4</td><td>SERIES ADDED ENTRY--MEETING NAME  - Relationship</td></tr><tr><td>811</td><td>5</td><td>SERIES ADDED ENTRY--MEETING NAME  - Institution to which field applies</td></tr><tr><td>830</td><td>v</td><td>SERIES ADDED ENTRY--UNIFORM TITLE  - Volume/sequential designation</td></tr><tr><td>830</td><td>w</td><td>SERIES ADDED ENTRY--UNIFORM TITLE  - Bibliographic record control number</td></tr><tr><td>830</td><td>5</td><td>SERIES ADDED ENTRY--UNIFORM TITLE  - Institution to which field applies</td></tr><tr><td>856</td><td>a</td><td>ELECTRONIC LOCATION AND ACCESS  - Host name</td></tr><tr><td>856</td><td>b</td><td>ELECTRONIC LOCATION AND ACCESS  - Access number</td></tr><tr><td>856</td><td>c</td><td>ELECTRONIC LOCATION AND ACCESS  - Compression information</td></tr><tr><td>856</td><td>d</td><td>ELECTRONIC LOCATION AND ACCESS  - Path</td></tr><tr><td>856</td><td>f</td><td>ELECTRONIC LOCATION AND ACCESS  - Electronic name</td></tr><tr><td>856</td><td>h</td><td>ELECTRONIC LOCATION AND ACCESS  - Processor of request</td></tr><tr><td>856</td><td>i</td><td>ELECTRONIC LOCATION AND ACCESS  - Instruction</td></tr><tr><td>856</td><td>j</td><td>ELECTRONIC LOCATION AND ACCESS  - Bits per second</td></tr><tr><td>856</td><td>k</td><td>ELECTRONIC LOCATION AND ACCESS  - Password</td></tr><tr><td>856</td><td>l</td><td>ELECTRONIC LOCATION AND ACCESS  - Logon</td></tr><tr><td>856</td><td>m</td><td>ELECTRONIC LOCATION AND ACCESS  - Contact for access assistance</td></tr><tr><td>856</td><td>n</td><td>ELECTRONIC LOCATION AND ACCESS  - Name of location of host</td></tr><tr><td>856</td><td>o</td><td>ELECTRONIC LOCATION AND ACCESS  - Operating system</td></tr><tr><td>856</td><td>p</td><td>ELECTRONIC LOCATION AND ACCESS  - Port</td></tr><tr><td>856</td><td>q</td><td>ELECTRONIC LOCATION AND ACCESS  - Electronic format type</td></tr><tr><td>856</td><td>r</td><td>ELECTRONIC LOCATION AND ACCESS  - Settings</td></tr><tr><td>856</td><td>s</td><td>ELECTRONIC LOCATION AND ACCESS  - File size</td></tr><tr><td>856</td><td>t</td><td>ELECTRONIC LOCATION AND ACCESS  - Terminal emulation</td></tr><tr><td>856</td><td>v</td><td>ELECTRONIC LOCATION AND ACCESS  - Hours access method available</td></tr><tr><td>856</td><td>w</td><td>ELECTRONIC LOCATION AND ACCESS  - Record control number</td></tr><tr><td>856</td><td>x</td><td>ELECTRONIC LOCATION AND ACCESS  - Nonpublic note</td></tr><tr><td>856</td><td>z</td><td>ELECTRONIC LOCATION AND ACCESS  - Public note</td></tr><tr><td>856</td><td>2</td><td>ELECTRONIC LOCATION AND ACCESS  - Access method</td></tr></table>\""
      ]
     },
     "metadata": {},
     "output_type": "display_data"
    },
    {
     "data": {
      "text/plain": [
       "#<CZTop::Socket::PUB:0x2bfb3c0 last_endpoint=\"tcp://127.0.0.1:54244\">"
      ]
     },
     "execution_count": 16,
     "metadata": {},
     "output_type": "execute_result"
    }
   ],
   "source": [
    "IRuby.display IRuby.table(table4, maxrows: 200)"
   ]
  }
 ],
 "metadata": {
  "kernelspec": {
   "display_name": "Ruby 2.4.2",
   "language": "ruby",
   "name": "ruby"
  },
  "language_info": {
   "file_extension": ".rb",
   "mimetype": "application/x-ruby",
   "name": "ruby",
   "version": "2.4.2"
  }
 },
 "nbformat": 4,
 "nbformat_minor": 2
}
